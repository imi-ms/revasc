{
 "cells": [
  {
   "cell_type": "code",
   "execution_count": 1,
   "id": "5202ddd2-bc3a-46ed-86a9-d8f636a91dad",
   "metadata": {},
   "outputs": [],
   "source": [
    "import pandas as pd\n",
    "import numpy as np\n",
    "import re\n",
    "import os"
   ]
  },
  {
   "cell_type": "code",
   "execution_count": 2,
   "id": "80013592-3114-4d76-b07c-088601ac3714",
   "metadata": {},
   "outputs": [],
   "source": [
    "# path_to_mimic should link to the directory containing hosp, icu, ...\n",
    "# the study is based on version 3.0\n",
    "path_to_mimic = \".....physionet.org/files/mimiciv/3.0/\"\n",
    "\n",
    "# path_to_mimic_ed should link to the directory containing ed, ...\n",
    "# the study is based on version 2.2\n",
    "path_to_mimic_ed = \".....physionet.org/files/mimic-iv-ed/2.2/\"\n",
    "\n",
    "# path_to_mimic_ecg should link to the directory containing record_list.csv\n",
    "# the study is based on version 1.0\n",
    "path_to_mimic_ecg = \".....physionet.org/files/\"\n",
    "\n",
    "# path to local files\n",
    "# should contain revasc_d_icd_procedures.xlsx, cabg_d_icd_procedures.xlsx, ...\n",
    "path_to_local_files = \"../data/\""
   ]
  },
  {
   "cell_type": "code",
   "execution_count": 3,
   "id": "c4ce91cd-9c2d-43d9-9f9f-35cb2e21d1d1",
   "metadata": {},
   "outputs": [],
   "source": [
    "admissions = pd.read_csv(os.path.join(path_to_mimic, 'hosp/admissions.csv'))"
   ]
  },
  {
   "cell_type": "code",
   "execution_count": 4,
   "id": "12ac228b-266e-481b-baf2-a580a3f957ac",
   "metadata": {},
   "outputs": [
    {
     "data": {
      "text/plain": [
       "(546028, 16)"
      ]
     },
     "execution_count": 4,
     "metadata": {},
     "output_type": "execute_result"
    }
   ],
   "source": [
    "admissions.shape"
   ]
  },
  {
   "cell_type": "code",
   "execution_count": 5,
   "id": "dc73bc43-d45f-4204-af27-a30228d40f61",
   "metadata": {},
   "outputs": [
    {
     "data": {
      "text/plain": [
       "Index(['subject_id', 'hadm_id', 'admittime', 'dischtime', 'deathtime',\n",
       "       'admission_type', 'admit_provider_id', 'admission_location',\n",
       "       'discharge_location', 'insurance', 'language', 'marital_status', 'race',\n",
       "       'edregtime', 'edouttime', 'hospital_expire_flag'],\n",
       "      dtype='object')"
      ]
     },
     "execution_count": 5,
     "metadata": {},
     "output_type": "execute_result"
    }
   ],
   "source": [
    "admissions.columns"
   ]
  },
  {
   "cell_type": "code",
   "execution_count": 6,
   "id": "82eada89-7920-4cde-a491-937bf8acea31",
   "metadata": {},
   "outputs": [
    {
     "data": {
      "text/plain": [
       "223452"
      ]
     },
     "execution_count": 6,
     "metadata": {},
     "output_type": "execute_result"
    }
   ],
   "source": [
    "admissions['subject_id'].nunique()"
   ]
  },
  {
   "cell_type": "code",
   "execution_count": 7,
   "id": "bce4a431-ba78-4ed4-8edb-e81fd0614f97",
   "metadata": {},
   "outputs": [
    {
     "data": {
      "text/plain": [
       "(379240, 16)"
      ]
     },
     "execution_count": 7,
     "metadata": {},
     "output_type": "execute_result"
    }
   ],
   "source": [
    "filtered_admissions = admissions[admissions['edregtime'].notna()]\n",
    "filtered_admissions.shape"
   ]
  },
  {
   "cell_type": "code",
   "execution_count": 8,
   "id": "48cbae69-fe91-4b35-8cad-55cf7dfe68a3",
   "metadata": {},
   "outputs": [
    {
     "data": {
      "text/plain": [
       "182439"
      ]
     },
     "execution_count": 8,
     "metadata": {},
     "output_type": "execute_result"
    }
   ],
   "source": [
    "filtered_admissions['subject_id'].nunique()"
   ]
  },
  {
   "cell_type": "code",
   "execution_count": 9,
   "id": "09ee81f1-fb1b-4c3b-b925-825a9ef9d180",
   "metadata": {},
   "outputs": [],
   "source": [
    "icu_stays = pd.read_csv(os.path.join(path_to_mimic, 'icu/icustays.csv'))"
   ]
  },
  {
   "cell_type": "code",
   "execution_count": 10,
   "id": "646b6c8e-a0ca-41b9-be9f-1074dffe6371",
   "metadata": {},
   "outputs": [
    {
     "data": {
      "text/plain": [
       "(94458, 8)"
      ]
     },
     "execution_count": 10,
     "metadata": {},
     "output_type": "execute_result"
    }
   ],
   "source": [
    "icu_stays.shape"
   ]
  },
  {
   "cell_type": "code",
   "execution_count": 11,
   "id": "075d7507-8dcc-499d-8a07-d28b8f96e0b9",
   "metadata": {},
   "outputs": [
    {
     "name": "stdout",
     "output_type": "stream",
     "text": [
      "All hadm_id in icu_stays are present in admissions: True\n"
     ]
    }
   ],
   "source": [
    "# Check if all hadm_id in icu_stays are present in admissions\n",
    "all_ids_present = icu_stays['hadm_id'].isin(admissions['hadm_id']).all()\n",
    "print(\"All hadm_id in icu_stays are present in admissions:\", all_ids_present)"
   ]
  },
  {
   "cell_type": "code",
   "execution_count": 12,
   "id": "3ec79184-076d-4ca3-bb0a-f7c9ab97c578",
   "metadata": {},
   "outputs": [],
   "source": [
    "ed_stays = pd.read_csv(os.path.join(path_to_mimic_ed, 'ed/edstays.csv'))"
   ]
  },
  {
   "cell_type": "code",
   "execution_count": 13,
   "id": "2e02f0af-c625-49fb-b867-3929f5bdf437",
   "metadata": {},
   "outputs": [
    {
     "data": {
      "text/plain": [
       "(425087, 9)"
      ]
     },
     "execution_count": 13,
     "metadata": {},
     "output_type": "execute_result"
    }
   ],
   "source": [
    "ed_stays.shape"
   ]
  },
  {
   "cell_type": "code",
   "execution_count": 14,
   "id": "01a29616-ff61-44de-8a34-edff332dbeba",
   "metadata": {},
   "outputs": [
    {
     "data": {
      "text/plain": [
       "205504"
      ]
     },
     "execution_count": 14,
     "metadata": {},
     "output_type": "execute_result"
    }
   ],
   "source": [
    "ed_stays['subject_id'].nunique()"
   ]
  },
  {
   "cell_type": "code",
   "execution_count": 15,
   "id": "1624d982-b9e3-45a7-9a61-4095daec14e3",
   "metadata": {},
   "outputs": [
    {
     "data": {
      "text/plain": [
       "disposition\n",
       "HOME                           241632\n",
       "ADMITTED                       158010\n",
       "TRANSFER                         7025\n",
       "LEFT WITHOUT BEING SEEN          6155\n",
       "ELOPED                           5710\n",
       "OTHER                            4297\n",
       "LEFT AGAINST MEDICAL ADVICE      1881\n",
       "EXPIRED                           377\n",
       "Name: count, dtype: int64"
      ]
     },
     "execution_count": 15,
     "metadata": {},
     "output_type": "execute_result"
    }
   ],
   "source": [
    "ed_stays['disposition'].value_counts()"
   ]
  },
  {
   "cell_type": "code",
   "execution_count": 16,
   "id": "9ff51a72-fc17-4495-921b-998a2c4a5e11",
   "metadata": {},
   "outputs": [
    {
     "data": {
      "text/plain": [
       "(241632, 9)"
      ]
     },
     "execution_count": 16,
     "metadata": {},
     "output_type": "execute_result"
    }
   ],
   "source": [
    "home_stays = ed_stays[ed_stays['disposition'] == 'HOME']\n",
    "home_stays.shape"
   ]
  },
  {
   "cell_type": "code",
   "execution_count": 17,
   "id": "47350b8b-45f0-4d2f-aa08-27e9efec0a2a",
   "metadata": {},
   "outputs": [
    {
     "data": {
      "text/plain": [
       "138273"
      ]
     },
     "execution_count": 17,
     "metadata": {},
     "output_type": "execute_result"
    }
   ],
   "source": [
    "home_stays['subject_id'].nunique()"
   ]
  },
  {
   "cell_type": "code",
   "execution_count": 18,
   "id": "536a3ce9-8cc2-4cc7-90e3-b2b37ff114f1",
   "metadata": {},
   "outputs": [
    {
     "name": "stdout",
     "output_type": "stream",
     "text": [
      "Total 'ADMITTED' stays: 158010\n",
      "'ADMITTED' stays with hadm_id: 157626\n",
      "hadm_ids from admitted stays that are in admissions: 157601\n"
     ]
    }
   ],
   "source": [
    "# Filter ed_stays for 'ADMITTED' disposition\n",
    "admitted_stays = ed_stays[ed_stays['disposition'] == 'ADMITTED']\n",
    "\n",
    "# Count how many 'ADMITTED' stays have an associated hadm_id\n",
    "total_admitted_stays = admitted_stays.shape[0]\n",
    "admitted_with_hadm_id = admitted_stays['hadm_id'].notna().sum()\n",
    "\n",
    "# Check how many of those hadm_ids in ed_stays are also in admissions\n",
    "hadm_ids_in_ed_stays = admitted_stays['hadm_id'].dropna().unique()\n",
    "hadm_ids_in_admissions = admissions['hadm_id'].unique()\n",
    "\n",
    "# Count the number of hadm_ids from admitted stays that are also in admissions\n",
    "hadm_ids_in_both = sum(hadm_id in hadm_ids_in_admissions for hadm_id in hadm_ids_in_ed_stays)\n",
    "\n",
    "# Output the results\n",
    "print(f\"Total 'ADMITTED' stays: {total_admitted_stays}\")\n",
    "print(f\"'ADMITTED' stays with hadm_id: {admitted_with_hadm_id}\")\n",
    "print(f\"hadm_ids from admitted stays that are in admissions: {hadm_ids_in_both}\")"
   ]
  },
  {
   "cell_type": "code",
   "execution_count": 19,
   "id": "722b9ede-c00a-43fb-9a10-8254f6517345",
   "metadata": {},
   "outputs": [
    {
     "data": {
      "text/plain": [
       "379240"
      ]
     },
     "execution_count": 19,
     "metadata": {},
     "output_type": "execute_result"
    }
   ],
   "source": [
    "(~admissions['edregtime'].isna()).sum()"
   ]
  },
  {
   "cell_type": "markdown",
   "id": "28cec7f3-adb1-4668-906a-4bf67920f2fc",
   "metadata": {},
   "source": [
    "Will work with admitted patients, whose procedure IDs can be merged from the MIMIC hosp module to derive revascularization labels. This includes all ICU patients, so we don't need to handle that module seperately. Nearly all hospital admission ids from the admitted ED module patients appear in the hosp module. We will ignore the slight mismatch of 409 patients admitted according to the ED module but without hadm_id in the hosp module. We will use ED patients sent home and assign negative procedure labels as they have not undergone cardiac revascularization. \n",
    "Our screening populations consists of all 379240 patient presentations from the hosp module with an edregtime plus all 241632 sent home patient presentations from the ed module. Those are representative for all patients presenting to the emergency department whose medical precedures are given in the data."
   ]
  },
  {
   "cell_type": "code",
   "execution_count": 20,
   "id": "87fdaac6-2f79-4122-a414-af40abeab214",
   "metadata": {},
   "outputs": [],
   "source": [
    "lab = pd.read_csv(os.path.join(path_to_mimic, 'hosp/labevents.csv'))"
   ]
  },
  {
   "cell_type": "code",
   "execution_count": 21,
   "id": "c0ae8857-87fe-4693-b58b-af5e87b2e6d1",
   "metadata": {},
   "outputs": [
    {
     "data": {
      "text/plain": [
       "(158478383, 16)"
      ]
     },
     "execution_count": 21,
     "metadata": {},
     "output_type": "execute_result"
    }
   ],
   "source": [
    "lab.shape"
   ]
  },
  {
   "cell_type": "code",
   "execution_count": 22,
   "id": "422985e4-9327-4fa6-aed3-7e7d4fc4ca60",
   "metadata": {},
   "outputs": [
    {
     "data": {
      "text/plain": [
       "Index(['labevent_id', 'subject_id', 'hadm_id', 'specimen_id', 'itemid',\n",
       "       'order_provider_id', 'charttime', 'storetime', 'value', 'valuenum',\n",
       "       'valueuom', 'ref_range_lower', 'ref_range_upper', 'flag', 'priority',\n",
       "       'comments'],\n",
       "      dtype='object')"
      ]
     },
     "execution_count": 22,
     "metadata": {},
     "output_type": "execute_result"
    }
   ],
   "source": [
    "lab.columns"
   ]
  },
  {
   "cell_type": "code",
   "execution_count": 23,
   "id": "2b7a6cf1-743d-41c7-b356-7b7a5c98369b",
   "metadata": {},
   "outputs": [],
   "source": [
    "lab_ids = pd.read_csv(os.path.join(path_to_mimic, 'hosp/d_labitems.csv'))"
   ]
  },
  {
   "cell_type": "code",
   "execution_count": 24,
   "id": "b7648801-2606-43bb-8521-61756e265fd0",
   "metadata": {},
   "outputs": [
    {
     "data": {
      "text/plain": [
       "(1650, 4)"
      ]
     },
     "execution_count": 24,
     "metadata": {},
     "output_type": "execute_result"
    }
   ],
   "source": [
    "lab_ids.shape"
   ]
  },
  {
   "cell_type": "code",
   "execution_count": 25,
   "id": "e073cf17-7cc1-4b7c-9fed-f1946dfa8cd8",
   "metadata": {},
   "outputs": [],
   "source": [
    "# Filter lab_ids for rows where the label contains 'troponin'\n",
    "troponin_ids = lab_ids[lab_ids['label'].str.contains('troponin', case=False, na=False)]\n",
    "\n",
    "# Extract the itemid values for these rows\n",
    "troponin_itemids = troponin_ids['itemid'].unique()"
   ]
  },
  {
   "cell_type": "code",
   "execution_count": 26,
   "id": "ae3f3dc6-747f-488c-a143-5652b0eaaa0e",
   "metadata": {},
   "outputs": [],
   "source": [
    "# Filter the lab_ids DataFrame to get the rows for the specific itemids found\n",
    "troponin_labels = lab_ids[lab_ids['itemid'].isin(troponin_itemids)]\n",
    "\n",
    "# Extract the itemid and label columns to display the results\n",
    "result = troponin_labels[['itemid', 'label']]"
   ]
  },
  {
   "cell_type": "code",
   "execution_count": 27,
   "id": "9efd65af-f32a-4fcf-9f3b-2132442f4f9d",
   "metadata": {},
   "outputs": [
    {
     "data": {
      "text/html": [
       "<div>\n",
       "<style scoped>\n",
       "    .dataframe tbody tr th:only-of-type {\n",
       "        vertical-align: middle;\n",
       "    }\n",
       "\n",
       "    .dataframe tbody tr th {\n",
       "        vertical-align: top;\n",
       "    }\n",
       "\n",
       "    .dataframe thead th {\n",
       "        text-align: right;\n",
       "    }\n",
       "</style>\n",
       "<table border=\"1\" class=\"dataframe\">\n",
       "  <thead>\n",
       "    <tr style=\"text-align: right;\">\n",
       "      <th></th>\n",
       "      <th>labevent_id</th>\n",
       "      <th>subject_id</th>\n",
       "      <th>hadm_id</th>\n",
       "      <th>specimen_id</th>\n",
       "      <th>itemid</th>\n",
       "      <th>order_provider_id</th>\n",
       "      <th>charttime</th>\n",
       "      <th>storetime</th>\n",
       "      <th>value</th>\n",
       "      <th>valuenum</th>\n",
       "      <th>valueuom</th>\n",
       "      <th>ref_range_lower</th>\n",
       "      <th>ref_range_upper</th>\n",
       "      <th>flag</th>\n",
       "      <th>priority</th>\n",
       "      <th>comments</th>\n",
       "    </tr>\n",
       "  </thead>\n",
       "  <tbody>\n",
       "  </tbody>\n",
       "</table>\n",
       "</div>"
      ],
      "text/plain": [
       "Empty DataFrame\n",
       "Columns: [labevent_id, subject_id, hadm_id, specimen_id, itemid, order_provider_id, charttime, storetime, value, valuenum, valueuom, ref_range_lower, ref_range_upper, flag, priority, comments]\n",
       "Index: []"
      ]
     },
     "execution_count": 27,
     "metadata": {},
     "output_type": "execute_result"
    }
   ],
   "source": [
    "# Filter the lab_ids DataFrame to keep only rows where itemid is 51002\n",
    "lab_troponin_t = lab[lab['itemid'] == 51002]\n",
    "lab_troponin_t"
   ]
  },
  {
   "cell_type": "code",
   "execution_count": 28,
   "id": "41ae4bf5-474d-49de-9ade-bacf92ddf5a3",
   "metadata": {},
   "outputs": [
    {
     "data": {
      "text/plain": [
       "(459872, 16)"
      ]
     },
     "execution_count": 28,
     "metadata": {},
     "output_type": "execute_result"
    }
   ],
   "source": [
    "# Filter the lab_ids DataFrame to keep only rows where itemid is 51003\n",
    "lab_troponin_t = lab[lab['itemid'] == 51003]\n",
    "lab_troponin_t.shape"
   ]
  },
  {
   "cell_type": "code",
   "execution_count": 29,
   "id": "f6ef0b39-04ee-4ae0-a1fb-71f77308d8f8",
   "metadata": {},
   "outputs": [],
   "source": [
    "# Filter rows where valuenum is NaN\n",
    "nan_valuenum_rows = lab_troponin_t[lab_troponin_t['valuenum'].isna()]\n",
    "\n",
    "# Get the value counts of the 'comments' column in these rows\n",
    "comments_value_counts = nan_valuenum_rows['comments'].value_counts()"
   ]
  },
  {
   "cell_type": "code",
   "execution_count": 30,
   "id": "40fad477-09d4-44b3-b73c-375b36b68a9b",
   "metadata": {},
   "outputs": [
    {
     "data": {
      "text/plain": [
       "(459872, 16)"
      ]
     },
     "execution_count": 30,
     "metadata": {},
     "output_type": "execute_result"
    }
   ],
   "source": [
    "# Fill NaN values in valuenum where comments start with '<' or 'LESS' with 0.01\n",
    "lab_troponin_t.loc[\n",
    "    lab_troponin_t['valuenum'].isna() & lab_troponin_t['comments'].str.startswith(('<', 'LESS')),\n",
    "    'valuenum'\n",
    "] = 0.01\n",
    "\n",
    "# Fill NaN values in valuenum where comments start with '>' or 'GREATER' with 25\n",
    "lab_troponin_t.loc[\n",
    "    lab_troponin_t['valuenum'].isna() & lab_troponin_t['comments'].str.startswith(('>', 'GREATER')),\n",
    "    'valuenum'\n",
    "] = 25\n",
    "\n",
    "# Display the updated DataFrame or the first few rows to confirm\n",
    "lab_troponin_t.shape"
   ]
  },
  {
   "cell_type": "code",
   "execution_count": 31,
   "id": "71d48583-dc6f-4008-bbca-5030fc5ec5ac",
   "metadata": {},
   "outputs": [
    {
     "name": "stdout",
     "output_type": "stream",
     "text": [
      "Number of NaN values left in valuenum: 304\n",
      "Shape of DataFrame after dropping NaNs: (459568, 16)\n"
     ]
    }
   ],
   "source": [
    "# Check how many NaN values are left in valuenum\n",
    "nans_left = lab_troponin_t['valuenum'].isna().sum()\n",
    "print(f\"Number of NaN values left in valuenum: {nans_left}\")\n",
    "\n",
    "# Drop rows where valuenum is still NaN\n",
    "lab_troponin_t_cleaned = lab_troponin_t.dropna(subset=['valuenum'])\n",
    "\n",
    "# Check the shape of the cleaned DataFrame to confirm\n",
    "print(f\"Shape of DataFrame after dropping NaNs: {lab_troponin_t_cleaned.shape}\")"
   ]
  },
  {
   "cell_type": "code",
   "execution_count": 32,
   "id": "60d24d49-cf81-47ab-b4ba-75e809d21f4e",
   "metadata": {},
   "outputs": [
    {
     "data": {
      "text/plain": [
       "(670, 16)"
      ]
     },
     "execution_count": 32,
     "metadata": {},
     "output_type": "execute_result"
    }
   ],
   "source": [
    "# Filter the lab_ids DataFrame to keep only rows where itemid is 51003\n",
    "lab_troponin_i = lab[lab['itemid'] == 52642]\n",
    "lab_troponin_i.shape"
   ]
  },
  {
   "cell_type": "code",
   "execution_count": 33,
   "id": "30bafcb1-3309-457e-94a0-ef3b303d0aa5",
   "metadata": {},
   "outputs": [],
   "source": [
    "# Filter lab_ids for rows where the label contains 'troponin'\n",
    "ck_ids = lab_ids[lab_ids['label'].str.contains('Creatine Kinase', case=False, na=False)]\n",
    "\n",
    "# Extract the itemid values for these rows\n",
    "ck_itemids = ck_ids['itemid'].unique()"
   ]
  },
  {
   "cell_type": "code",
   "execution_count": 34,
   "id": "81a91f14-09a5-4cc5-bb24-4d7f239df213",
   "metadata": {},
   "outputs": [],
   "source": [
    "# Filter the lab_ids DataFrame to get the rows for the specific itemids found\n",
    "ck_labels = lab_ids[lab_ids['itemid'].isin(ck_itemids)]\n",
    "\n",
    "# Extract the itemid and label columns to display the results\n",
    "result = ck_labels[['itemid', 'label']]"
   ]
  },
  {
   "cell_type": "code",
   "execution_count": 35,
   "id": "4ed4ddca-9854-4b77-b020-9133532e87ba",
   "metadata": {},
   "outputs": [
    {
     "data": {
      "text/plain": [
       "(334746, 16)"
      ]
     },
     "execution_count": 35,
     "metadata": {},
     "output_type": "execute_result"
    }
   ],
   "source": [
    "# Filter the lab_ids DataFrame to keep only rows where itemid is 51002\n",
    "lab_ck = lab[lab['itemid'] == 50910]\n",
    "lab_ck.shape"
   ]
  },
  {
   "cell_type": "code",
   "execution_count": 36,
   "id": "1a9b6d3f-bfd0-4a12-9d83-252ae3fb815b",
   "metadata": {},
   "outputs": [
    {
     "data": {
      "text/plain": [
       "(266856, 16)"
      ]
     },
     "execution_count": 36,
     "metadata": {},
     "output_type": "execute_result"
    }
   ],
   "source": [
    "# Filter the lab_ids DataFrame to keep only rows where itemid is 51002\n",
    "lab_ckmb = lab[lab['itemid'] == 50911]\n",
    "lab_ckmb.shape"
   ]
  },
  {
   "cell_type": "code",
   "execution_count": 37,
   "id": "6638ec0e-d67d-43a5-bf4c-e6fa62e870c9",
   "metadata": {},
   "outputs": [
    {
     "name": "stdout",
     "output_type": "stream",
     "text": [
      "Shape of lab_ck after dropping NaNs: (334591, 16)\n",
      "Shape of lab_ckmb after dropping NaNs: (218081, 16)\n"
     ]
    }
   ],
   "source": [
    "lab_ck_cleaned = lab_ck.dropna(subset=['valuenum'])\n",
    "\n",
    "lab_ckmb_cleaned = lab_ckmb.dropna(subset=['valuenum'])\n",
    "\n",
    "# Check the shape of the cleaned DataFrames to confirm\n",
    "print(f\"Shape of lab_ck after dropping NaNs: {lab_ck_cleaned.shape}\")\n",
    "print(f\"Shape of lab_ckmb after dropping NaNs: {lab_ckmb_cleaned.shape}\")"
   ]
  },
  {
   "cell_type": "code",
   "execution_count": 38,
   "id": "625a697d-8bf7-42a3-9514-575833ee4322",
   "metadata": {},
   "outputs": [],
   "source": [
    "ecgs = pd.read_csv(os.path.join(path_to_mimic_ecg, 'record_list.csv'))"
   ]
  },
  {
   "cell_type": "code",
   "execution_count": 39,
   "id": "60791f5a-90a3-45b4-ac97-621753cbdd71",
   "metadata": {},
   "outputs": [
    {
     "data": {
      "text/html": [
       "<div>\n",
       "<style scoped>\n",
       "    .dataframe tbody tr th:only-of-type {\n",
       "        vertical-align: middle;\n",
       "    }\n",
       "\n",
       "    .dataframe tbody tr th {\n",
       "        vertical-align: top;\n",
       "    }\n",
       "\n",
       "    .dataframe thead th {\n",
       "        text-align: right;\n",
       "    }\n",
       "</style>\n",
       "<table border=\"1\" class=\"dataframe\">\n",
       "  <thead>\n",
       "    <tr style=\"text-align: right;\">\n",
       "      <th></th>\n",
       "      <th>subject_id</th>\n",
       "      <th>study_id</th>\n",
       "      <th>file_name</th>\n",
       "      <th>ecg_time</th>\n",
       "      <th>path</th>\n",
       "    </tr>\n",
       "  </thead>\n",
       "  <tbody>\n",
       "    <tr>\n",
       "      <th>0</th>\n",
       "      <td>10000032</td>\n",
       "      <td>40689238</td>\n",
       "      <td>40689238</td>\n",
       "      <td>2180-07-23 08:44:00</td>\n",
       "      <td>files/p1000/p10000032/s40689238/40689238</td>\n",
       "    </tr>\n",
       "    <tr>\n",
       "      <th>1</th>\n",
       "      <td>10000032</td>\n",
       "      <td>44458630</td>\n",
       "      <td>44458630</td>\n",
       "      <td>2180-07-23 09:54:00</td>\n",
       "      <td>files/p1000/p10000032/s44458630/44458630</td>\n",
       "    </tr>\n",
       "    <tr>\n",
       "      <th>2</th>\n",
       "      <td>10000032</td>\n",
       "      <td>49036311</td>\n",
       "      <td>49036311</td>\n",
       "      <td>2180-08-06 09:07:00</td>\n",
       "      <td>files/p1000/p10000032/s49036311/49036311</td>\n",
       "    </tr>\n",
       "    <tr>\n",
       "      <th>3</th>\n",
       "      <td>10000117</td>\n",
       "      <td>45090959</td>\n",
       "      <td>45090959</td>\n",
       "      <td>2181-03-04 17:14:00</td>\n",
       "      <td>files/p1000/p10000117/s45090959/45090959</td>\n",
       "    </tr>\n",
       "    <tr>\n",
       "      <th>4</th>\n",
       "      <td>10000117</td>\n",
       "      <td>48446569</td>\n",
       "      <td>48446569</td>\n",
       "      <td>2183-09-18 13:52:00</td>\n",
       "      <td>files/p1000/p10000117/s48446569/48446569</td>\n",
       "    </tr>\n",
       "    <tr>\n",
       "      <th>...</th>\n",
       "      <td>...</td>\n",
       "      <td>...</td>\n",
       "      <td>...</td>\n",
       "      <td>...</td>\n",
       "      <td>...</td>\n",
       "    </tr>\n",
       "    <tr>\n",
       "      <th>800030</th>\n",
       "      <td>19999840</td>\n",
       "      <td>48683947</td>\n",
       "      <td>48683947</td>\n",
       "      <td>2164-09-12 12:28:00</td>\n",
       "      <td>files/p1999/p19999840/s48683947/48683947</td>\n",
       "    </tr>\n",
       "    <tr>\n",
       "      <th>800031</th>\n",
       "      <td>19999840</td>\n",
       "      <td>41842293</td>\n",
       "      <td>41842293</td>\n",
       "      <td>2164-09-17 11:31:00</td>\n",
       "      <td>files/p1999/p19999840/s41842293/41842293</td>\n",
       "    </tr>\n",
       "    <tr>\n",
       "      <th>800032</th>\n",
       "      <td>19999987</td>\n",
       "      <td>41190887</td>\n",
       "      <td>41190887</td>\n",
       "      <td>2145-11-02 19:54:00</td>\n",
       "      <td>files/p1999/p19999987/s41190887/41190887</td>\n",
       "    </tr>\n",
       "    <tr>\n",
       "      <th>800033</th>\n",
       "      <td>19999987</td>\n",
       "      <td>45828463</td>\n",
       "      <td>45828463</td>\n",
       "      <td>2145-11-03 03:00:00</td>\n",
       "      <td>files/p1999/p19999987/s45828463/45828463</td>\n",
       "    </tr>\n",
       "    <tr>\n",
       "      <th>800034</th>\n",
       "      <td>19999987</td>\n",
       "      <td>49815090</td>\n",
       "      <td>49815090</td>\n",
       "      <td>2145-11-03 08:47:00</td>\n",
       "      <td>files/p1999/p19999987/s49815090/49815090</td>\n",
       "    </tr>\n",
       "  </tbody>\n",
       "</table>\n",
       "<p>800035 rows × 5 columns</p>\n",
       "</div>"
      ],
      "text/plain": [
       "        subject_id  study_id  file_name             ecg_time  \\\n",
       "0         10000032  40689238   40689238  2180-07-23 08:44:00   \n",
       "1         10000032  44458630   44458630  2180-07-23 09:54:00   \n",
       "2         10000032  49036311   49036311  2180-08-06 09:07:00   \n",
       "3         10000117  45090959   45090959  2181-03-04 17:14:00   \n",
       "4         10000117  48446569   48446569  2183-09-18 13:52:00   \n",
       "...            ...       ...        ...                  ...   \n",
       "800030    19999840  48683947   48683947  2164-09-12 12:28:00   \n",
       "800031    19999840  41842293   41842293  2164-09-17 11:31:00   \n",
       "800032    19999987  41190887   41190887  2145-11-02 19:54:00   \n",
       "800033    19999987  45828463   45828463  2145-11-03 03:00:00   \n",
       "800034    19999987  49815090   49815090  2145-11-03 08:47:00   \n",
       "\n",
       "                                            path  \n",
       "0       files/p1000/p10000032/s40689238/40689238  \n",
       "1       files/p1000/p10000032/s44458630/44458630  \n",
       "2       files/p1000/p10000032/s49036311/49036311  \n",
       "3       files/p1000/p10000117/s45090959/45090959  \n",
       "4       files/p1000/p10000117/s48446569/48446569  \n",
       "...                                          ...  \n",
       "800030  files/p1999/p19999840/s48683947/48683947  \n",
       "800031  files/p1999/p19999840/s41842293/41842293  \n",
       "800032  files/p1999/p19999987/s41190887/41190887  \n",
       "800033  files/p1999/p19999987/s45828463/45828463  \n",
       "800034  files/p1999/p19999987/s49815090/49815090  \n",
       "\n",
       "[800035 rows x 5 columns]"
      ]
     },
     "execution_count": 39,
     "metadata": {},
     "output_type": "execute_result"
    }
   ],
   "source": [
    "ecgs"
   ]
  },
  {
   "cell_type": "code",
   "execution_count": 40,
   "id": "cba18dce-8a85-4352-9adb-249f9c4931a6",
   "metadata": {},
   "outputs": [],
   "source": [
    "ecgs['ecg_time'] = pd.to_datetime(ecgs['ecg_time'])\n",
    "admissions['edregtime'] = pd.to_datetime(admissions['edregtime'])\n",
    "\n",
    "merged_df = pd.merge(ecgs, admissions[['subject_id', 'edregtime', 'hadm_id', 'race']], on='subject_id', how='left')\n",
    "\n",
    "# Filter the ECGs to keep only those within 3 hours after ED presentation\n",
    "admissions_ecgs = merged_df[\n",
    "    (merged_df['ecg_time'] >= merged_df['edregtime']) &\n",
    "    (merged_df['ecg_time'] <= merged_df['edregtime'] + pd.Timedelta(hours=3))\n",
    "]"
   ]
  },
  {
   "cell_type": "code",
   "execution_count": 41,
   "id": "3954df05-a276-4c79-a828-69e2a690505d",
   "metadata": {},
   "outputs": [
    {
     "data": {
      "text/plain": [
       "(152547, 8)"
      ]
     },
     "execution_count": 41,
     "metadata": {},
     "output_type": "execute_result"
    }
   ],
   "source": [
    "admissions_ecgs.shape"
   ]
  },
  {
   "cell_type": "code",
   "execution_count": 42,
   "id": "78f161c1-6d37-4b8a-a202-fa669f1a4144",
   "metadata": {},
   "outputs": [],
   "source": [
    "admissions_ecgs_sorted = admissions_ecgs.sort_values(by=['hadm_id', 'ecg_time'])\n",
    "\n",
    "admissions_ecgs_earliest = admissions_ecgs_sorted.drop_duplicates(subset=['hadm_id'], keep='first')"
   ]
  },
  {
   "cell_type": "code",
   "execution_count": 43,
   "id": "08aed036-10f2-4f41-ae69-b6cb16db8ce6",
   "metadata": {},
   "outputs": [
    {
     "data": {
      "text/plain": [
       "(137331, 8)"
      ]
     },
     "execution_count": 43,
     "metadata": {},
     "output_type": "execute_result"
    }
   ],
   "source": [
    "admissions_ecgs_earliest.shape"
   ]
  },
  {
   "cell_type": "code",
   "execution_count": 44,
   "id": "f8756176-aee9-4931-9b93-4b3f49c64383",
   "metadata": {},
   "outputs": [],
   "source": [
    "ed_stays['intime'] = pd.to_datetime(ed_stays['intime'])\n",
    "\n",
    "merged_df = pd.merge(ecgs, ed_stays[['subject_id', 'intime', 'stay_id', 'disposition', 'arrival_transport', 'race']], on='subject_id', how='left')\n",
    "\n",
    "# Filter the ECGs to keep only those within 3 hours after ED presentation\n",
    "ed_ecgs = merged_df[\n",
    "    (merged_df['ecg_time'] >= merged_df['intime']) &\n",
    "    (merged_df['ecg_time'] <= merged_df['intime'] + pd.Timedelta(hours=3))\n",
    "]\n",
    "\n",
    "# Filter the ed_ecgs DataFrame to keep only rows where disposition is 'HOME'\n",
    "ed_ecgs = ed_ecgs[ed_ecgs['disposition'] == 'HOME']\n",
    "ed_ecgs = ed_ecgs.drop(columns=['disposition'])\n",
    "ed_ecgs = ed_ecgs.rename(columns={'intime': 'edregtime', 'stay_id':'ed_stay_id'})"
   ]
  },
  {
   "cell_type": "code",
   "execution_count": 45,
   "id": "50efbd4f-8f60-416b-93be-e5926fcf1b99",
   "metadata": {},
   "outputs": [
    {
     "data": {
      "text/plain": [
       "(61350, 9)"
      ]
     },
     "execution_count": 45,
     "metadata": {},
     "output_type": "execute_result"
    }
   ],
   "source": [
    "ed_ecgs.shape"
   ]
  },
  {
   "cell_type": "code",
   "execution_count": 46,
   "id": "c022dd17-a051-4d0c-8c4a-d512609b15cb",
   "metadata": {},
   "outputs": [],
   "source": [
    "ed_ecgs_sorted = ed_ecgs.sort_values(by=['ed_stay_id', 'ecg_time'])\n",
    "\n",
    "ed_ecgs_earliest = ed_ecgs_sorted.drop_duplicates(subset=['ed_stay_id'], keep='first')"
   ]
  },
  {
   "cell_type": "code",
   "execution_count": 47,
   "id": "f8b76d37-de58-48b1-87c5-d7de15deb359",
   "metadata": {},
   "outputs": [
    {
     "data": {
      "text/plain": [
       "(57821, 9)"
      ]
     },
     "execution_count": 47,
     "metadata": {},
     "output_type": "execute_result"
    }
   ],
   "source": [
    "ed_ecgs_earliest.shape"
   ]
  },
  {
   "cell_type": "code",
   "execution_count": 48,
   "id": "b4d5f2f7-5738-40b7-a16f-2b6c215bc032",
   "metadata": {},
   "outputs": [
    {
     "name": "stdout",
     "output_type": "stream",
     "text": [
      "Number of common study_ids: 13745\n"
     ]
    }
   ],
   "source": [
    "common_study_ids = ed_ecgs_earliest['study_id'].isin(admissions_ecgs_earliest['study_id'])\n",
    "common_count = common_study_ids.sum()\n",
    "\n",
    "print(f\"Number of common study_ids: {common_count}\")"
   ]
  },
  {
   "cell_type": "code",
   "execution_count": 49,
   "id": "d95c42cb-27e1-463d-bfc1-b81386af4054",
   "metadata": {},
   "outputs": [],
   "source": [
    "combined_ecgs = pd.concat([ed_ecgs_earliest, admissions_ecgs_earliest], ignore_index=True)"
   ]
  },
  {
   "cell_type": "code",
   "execution_count": 50,
   "id": "81d7837c-5975-4eb7-8753-e70a3a0ee161",
   "metadata": {},
   "outputs": [
    {
     "data": {
      "text/plain": [
       "(195152, 10)"
      ]
     },
     "execution_count": 50,
     "metadata": {},
     "output_type": "execute_result"
    }
   ],
   "source": [
    "combined_ecgs.shape"
   ]
  },
  {
   "cell_type": "code",
   "execution_count": 51,
   "id": "928a1b45-7ea4-40ce-97c4-e045a1a28684",
   "metadata": {},
   "outputs": [
    {
     "name": "stderr",
     "output_type": "stream",
     "text": [
      "/tmp/ipykernel_3335723/2337414888.py:7: FutureWarning: Downcasting object dtype arrays on .fillna, .ffill, .bfill is deprecated and will change in a future version. Call result.infer_objects(copy=False) instead. To opt-in to the future behavior, set `pd.set_option('future.no_silent_downcasting', True)`\n",
      "  combined_ecgs_filled = combined_ecgs_sorted.groupby('study_id', as_index=False).apply(lambda x: x.ffill().bfill())\n",
      "/tmp/ipykernel_3335723/2337414888.py:7: DeprecationWarning: DataFrameGroupBy.apply operated on the grouping columns. This behavior is deprecated, and in a future version of pandas the grouping columns will be excluded from the operation. Either pass `include_groups=False` to exclude the groupings or explicitly select the grouping columns after groupby to silence this warning.\n",
      "  combined_ecgs_filled = combined_ecgs_sorted.groupby('study_id', as_index=False).apply(lambda x: x.ffill().bfill())\n"
     ]
    },
    {
     "data": {
      "text/plain": [
       "(180686, 10)"
      ]
     },
     "execution_count": 51,
     "metadata": {},
     "output_type": "execute_result"
    }
   ],
   "source": [
    "# Sort combined_ecgs by study_id and other relevant columns\n",
    "combined_ecgs_sorted = combined_ecgs.sort_values(\n",
    "    by=['study_id', 'ecg_time', 'ed_stay_id', 'hadm_id'],\n",
    "    ascending=[True, True, False, False]\n",
    ")\n",
    "\n",
    "combined_ecgs_filled = combined_ecgs_sorted.groupby('study_id', as_index=False).apply(lambda x: x.ffill().bfill())\n",
    "combined_ecgs_cleaned = combined_ecgs_filled.drop_duplicates(subset=['study_id'], keep='first')\n",
    "\n",
    "combined_ecgs_cleaned.shape"
   ]
  },
  {
   "cell_type": "code",
   "execution_count": 52,
   "id": "6165c30e-bdc5-488d-bd58-b32c57b3a4e3",
   "metadata": {},
   "outputs": [
    {
     "data": {
      "text/plain": [
       "97982"
      ]
     },
     "execution_count": 52,
     "metadata": {},
     "output_type": "execute_result"
    }
   ],
   "source": [
    "combined_ecgs_cleaned['subject_id'].nunique()"
   ]
  },
  {
   "cell_type": "code",
   "execution_count": 53,
   "id": "700b4392-c21f-4134-a327-ee66f86ff6de",
   "metadata": {},
   "outputs": [
    {
     "data": {
      "text/plain": [
       "(859655, 6)"
      ]
     },
     "execution_count": 53,
     "metadata": {},
     "output_type": "execute_result"
    }
   ],
   "source": [
    "procedures = pd.read_csv(os.path.join(path_to_mimic, 'hosp/procedures_icd.csv'))\n",
    "procedures.shape"
   ]
  },
  {
   "cell_type": "code",
   "execution_count": 54,
   "id": "0665ee38-cc79-4d54-b00d-00b69200bd5c",
   "metadata": {},
   "outputs": [
    {
     "data": {
      "text/html": [
       "<div>\n",
       "<style scoped>\n",
       "    .dataframe tbody tr th:only-of-type {\n",
       "        vertical-align: middle;\n",
       "    }\n",
       "\n",
       "    .dataframe tbody tr th {\n",
       "        vertical-align: top;\n",
       "    }\n",
       "\n",
       "    .dataframe thead th {\n",
       "        text-align: right;\n",
       "    }\n",
       "</style>\n",
       "<table border=\"1\" class=\"dataframe\">\n",
       "  <thead>\n",
       "    <tr style=\"text-align: right;\">\n",
       "      <th></th>\n",
       "      <th>icd_code</th>\n",
       "      <th>icd_version</th>\n",
       "      <th>long_title</th>\n",
       "    </tr>\n",
       "  </thead>\n",
       "  <tbody>\n",
       "    <tr>\n",
       "      <th>0</th>\n",
       "      <td>66</td>\n",
       "      <td>9</td>\n",
       "      <td>Percutaneous transluminal coronary angioplasty...</td>\n",
       "    </tr>\n",
       "    <tr>\n",
       "      <th>1</th>\n",
       "      <td>210083</td>\n",
       "      <td>10</td>\n",
       "      <td>Bypass Coronary Artery, One Artery from Corona...</td>\n",
       "    </tr>\n",
       "    <tr>\n",
       "      <th>2</th>\n",
       "      <td>210088</td>\n",
       "      <td>10</td>\n",
       "      <td>Bypass Coronary Artery, One Artery from Right ...</td>\n",
       "    </tr>\n",
       "    <tr>\n",
       "      <th>3</th>\n",
       "      <td>210089</td>\n",
       "      <td>10</td>\n",
       "      <td>Bypass Coronary Artery, One Artery from Left I...</td>\n",
       "    </tr>\n",
       "    <tr>\n",
       "      <th>4</th>\n",
       "      <td>021008C</td>\n",
       "      <td>10</td>\n",
       "      <td>Bypass Coronary Artery, One Artery from Thorac...</td>\n",
       "    </tr>\n",
       "    <tr>\n",
       "      <th>...</th>\n",
       "      <td>...</td>\n",
       "      <td>...</td>\n",
       "      <td>...</td>\n",
       "    </tr>\n",
       "    <tr>\n",
       "      <th>578</th>\n",
       "      <td>3E07316</td>\n",
       "      <td>10</td>\n",
       "      <td>Introduction of Recombinant Human-activated Pr...</td>\n",
       "    </tr>\n",
       "    <tr>\n",
       "      <th>579</th>\n",
       "      <td>3E07317</td>\n",
       "      <td>10</td>\n",
       "      <td>Introduction of Other Thrombolytic into Corona...</td>\n",
       "    </tr>\n",
       "    <tr>\n",
       "      <th>580</th>\n",
       "      <td>3E073GC</td>\n",
       "      <td>10</td>\n",
       "      <td>Introduction of Other Therapeutic Substance in...</td>\n",
       "    </tr>\n",
       "    <tr>\n",
       "      <th>581</th>\n",
       "      <td>3E073KZ</td>\n",
       "      <td>10</td>\n",
       "      <td>Introduction of Other Diagnostic Substance int...</td>\n",
       "    </tr>\n",
       "    <tr>\n",
       "      <th>582</th>\n",
       "      <td>3E073PZ</td>\n",
       "      <td>10</td>\n",
       "      <td>Introduction of Platelet Inhibitor into Corona...</td>\n",
       "    </tr>\n",
       "  </tbody>\n",
       "</table>\n",
       "<p>583 rows × 3 columns</p>\n",
       "</div>"
      ],
      "text/plain": [
       "    icd_code  icd_version                                         long_title\n",
       "0         66            9  Percutaneous transluminal coronary angioplasty...\n",
       "1     210083           10  Bypass Coronary Artery, One Artery from Corona...\n",
       "2     210088           10  Bypass Coronary Artery, One Artery from Right ...\n",
       "3     210089           10  Bypass Coronary Artery, One Artery from Left I...\n",
       "4    021008C           10  Bypass Coronary Artery, One Artery from Thorac...\n",
       "..       ...          ...                                                ...\n",
       "578  3E07316           10  Introduction of Recombinant Human-activated Pr...\n",
       "579  3E07317           10  Introduction of Other Thrombolytic into Corona...\n",
       "580  3E073GC           10  Introduction of Other Therapeutic Substance in...\n",
       "581  3E073KZ           10  Introduction of Other Diagnostic Substance int...\n",
       "582  3E073PZ           10  Introduction of Platelet Inhibitor into Corona...\n",
       "\n",
       "[583 rows x 3 columns]"
      ]
     },
     "execution_count": 54,
     "metadata": {},
     "output_type": "execute_result"
    }
   ],
   "source": [
    "revasc_icd_codes = pd.read_excel(os.path.join(path_to_local_files, 'revasc_d_icd_procedures.xlsx'))\n",
    "revasc_icd_codes"
   ]
  },
  {
   "cell_type": "code",
   "execution_count": 55,
   "id": "de4a33f1-d78f-4de9-8c79-04bc8aee1c3f",
   "metadata": {},
   "outputs": [
    {
     "data": {
      "text/html": [
       "<div>\n",
       "<style scoped>\n",
       "    .dataframe tbody tr th:only-of-type {\n",
       "        vertical-align: middle;\n",
       "    }\n",
       "\n",
       "    .dataframe tbody tr th {\n",
       "        vertical-align: top;\n",
       "    }\n",
       "\n",
       "    .dataframe thead th {\n",
       "        text-align: right;\n",
       "    }\n",
       "</style>\n",
       "<table border=\"1\" class=\"dataframe\">\n",
       "  <thead>\n",
       "    <tr style=\"text-align: right;\">\n",
       "      <th></th>\n",
       "      <th>icd_code</th>\n",
       "      <th>icd_version</th>\n",
       "      <th>long_title</th>\n",
       "    </tr>\n",
       "  </thead>\n",
       "  <tbody>\n",
       "    <tr>\n",
       "      <th>0</th>\n",
       "      <td>210083</td>\n",
       "      <td>10</td>\n",
       "      <td>Bypass Coronary Artery, One Artery from Corona...</td>\n",
       "    </tr>\n",
       "    <tr>\n",
       "      <th>1</th>\n",
       "      <td>210088</td>\n",
       "      <td>10</td>\n",
       "      <td>Bypass Coronary Artery, One Artery from Right ...</td>\n",
       "    </tr>\n",
       "    <tr>\n",
       "      <th>2</th>\n",
       "      <td>210089</td>\n",
       "      <td>10</td>\n",
       "      <td>Bypass Coronary Artery, One Artery from Left I...</td>\n",
       "    </tr>\n",
       "    <tr>\n",
       "      <th>3</th>\n",
       "      <td>021008C</td>\n",
       "      <td>10</td>\n",
       "      <td>Bypass Coronary Artery, One Artery from Thorac...</td>\n",
       "    </tr>\n",
       "    <tr>\n",
       "      <th>4</th>\n",
       "      <td>021008F</td>\n",
       "      <td>10</td>\n",
       "      <td>Bypass Coronary Artery, One Artery from Abdomi...</td>\n",
       "    </tr>\n",
       "    <tr>\n",
       "      <th>...</th>\n",
       "      <td>...</td>\n",
       "      <td>...</td>\n",
       "      <td>...</td>\n",
       "    </tr>\n",
       "    <tr>\n",
       "      <th>394</th>\n",
       "      <td>3639</td>\n",
       "      <td>9</td>\n",
       "      <td>Other heart revascularization</td>\n",
       "    </tr>\n",
       "    <tr>\n",
       "      <th>395</th>\n",
       "      <td>3E07017</td>\n",
       "      <td>10</td>\n",
       "      <td>Introduction of Other Thrombolytic into Corona...</td>\n",
       "    </tr>\n",
       "    <tr>\n",
       "      <th>396</th>\n",
       "      <td>3E070GC</td>\n",
       "      <td>10</td>\n",
       "      <td>Introduction of Other Therapeutic Substance in...</td>\n",
       "    </tr>\n",
       "    <tr>\n",
       "      <th>397</th>\n",
       "      <td>3E070KZ</td>\n",
       "      <td>10</td>\n",
       "      <td>Introduction of Other Diagnostic Substance int...</td>\n",
       "    </tr>\n",
       "    <tr>\n",
       "      <th>398</th>\n",
       "      <td>3E070PZ</td>\n",
       "      <td>10</td>\n",
       "      <td>Introduction of Platelet Inhibitor into Corona...</td>\n",
       "    </tr>\n",
       "  </tbody>\n",
       "</table>\n",
       "<p>399 rows × 3 columns</p>\n",
       "</div>"
      ],
      "text/plain": [
       "    icd_code  icd_version                                         long_title\n",
       "0     210083           10  Bypass Coronary Artery, One Artery from Corona...\n",
       "1     210088           10  Bypass Coronary Artery, One Artery from Right ...\n",
       "2     210089           10  Bypass Coronary Artery, One Artery from Left I...\n",
       "3    021008C           10  Bypass Coronary Artery, One Artery from Thorac...\n",
       "4    021008F           10  Bypass Coronary Artery, One Artery from Abdomi...\n",
       "..       ...          ...                                                ...\n",
       "394     3639            9                      Other heart revascularization\n",
       "395  3E07017           10  Introduction of Other Thrombolytic into Corona...\n",
       "396  3E070GC           10  Introduction of Other Therapeutic Substance in...\n",
       "397  3E070KZ           10  Introduction of Other Diagnostic Substance int...\n",
       "398  3E070PZ           10  Introduction of Platelet Inhibitor into Corona...\n",
       "\n",
       "[399 rows x 3 columns]"
      ]
     },
     "execution_count": 55,
     "metadata": {},
     "output_type": "execute_result"
    }
   ],
   "source": [
    "cabg_icd_codes = pd.read_excel(os.path.join(path_to_local_files, 'cabg_d_icd_procedures.xlsx'))\n",
    "cabg_icd_codes"
   ]
  },
  {
   "cell_type": "code",
   "execution_count": 56,
   "id": "fe1db83c-f8a0-48a6-aa3d-e3886fd8974e",
   "metadata": {},
   "outputs": [
    {
     "data": {
      "text/html": [
       "<div>\n",
       "<style scoped>\n",
       "    .dataframe tbody tr th:only-of-type {\n",
       "        vertical-align: middle;\n",
       "    }\n",
       "\n",
       "    .dataframe tbody tr th {\n",
       "        vertical-align: top;\n",
       "    }\n",
       "\n",
       "    .dataframe thead th {\n",
       "        text-align: right;\n",
       "    }\n",
       "</style>\n",
       "<table border=\"1\" class=\"dataframe\">\n",
       "  <thead>\n",
       "    <tr style=\"text-align: right;\">\n",
       "      <th></th>\n",
       "      <th>icd_code</th>\n",
       "      <th>icd_version</th>\n",
       "      <th>long_title</th>\n",
       "    </tr>\n",
       "  </thead>\n",
       "  <tbody>\n",
       "    <tr>\n",
       "      <th>0</th>\n",
       "      <td>66</td>\n",
       "      <td>9</td>\n",
       "      <td>Percutaneous transluminal coronary angioplasty...</td>\n",
       "    </tr>\n",
       "    <tr>\n",
       "      <th>1</th>\n",
       "      <td>270346</td>\n",
       "      <td>10</td>\n",
       "      <td>Dilation of Coronary Artery, One Artery, Bifur...</td>\n",
       "    </tr>\n",
       "    <tr>\n",
       "      <th>2</th>\n",
       "      <td>027034Z</td>\n",
       "      <td>10</td>\n",
       "      <td>Dilation of Coronary Artery, One Artery with D...</td>\n",
       "    </tr>\n",
       "    <tr>\n",
       "      <th>3</th>\n",
       "      <td>270356</td>\n",
       "      <td>10</td>\n",
       "      <td>Dilation of Coronary Artery, One Artery, Bifur...</td>\n",
       "    </tr>\n",
       "    <tr>\n",
       "      <th>4</th>\n",
       "      <td>027035Z</td>\n",
       "      <td>10</td>\n",
       "      <td>Dilation of Coronary Artery, One Artery with T...</td>\n",
       "    </tr>\n",
       "    <tr>\n",
       "      <th>...</th>\n",
       "      <td>...</td>\n",
       "      <td>...</td>\n",
       "      <td>...</td>\n",
       "    </tr>\n",
       "    <tr>\n",
       "      <th>179</th>\n",
       "      <td>3E07316</td>\n",
       "      <td>10</td>\n",
       "      <td>Introduction of Recombinant Human-activated Pr...</td>\n",
       "    </tr>\n",
       "    <tr>\n",
       "      <th>180</th>\n",
       "      <td>3E07317</td>\n",
       "      <td>10</td>\n",
       "      <td>Introduction of Other Thrombolytic into Corona...</td>\n",
       "    </tr>\n",
       "    <tr>\n",
       "      <th>181</th>\n",
       "      <td>3E073GC</td>\n",
       "      <td>10</td>\n",
       "      <td>Introduction of Other Therapeutic Substance in...</td>\n",
       "    </tr>\n",
       "    <tr>\n",
       "      <th>182</th>\n",
       "      <td>3E073KZ</td>\n",
       "      <td>10</td>\n",
       "      <td>Introduction of Other Diagnostic Substance int...</td>\n",
       "    </tr>\n",
       "    <tr>\n",
       "      <th>183</th>\n",
       "      <td>3E073PZ</td>\n",
       "      <td>10</td>\n",
       "      <td>Introduction of Platelet Inhibitor into Corona...</td>\n",
       "    </tr>\n",
       "  </tbody>\n",
       "</table>\n",
       "<p>184 rows × 3 columns</p>\n",
       "</div>"
      ],
      "text/plain": [
       "    icd_code  icd_version                                         long_title\n",
       "0         66            9  Percutaneous transluminal coronary angioplasty...\n",
       "1     270346           10  Dilation of Coronary Artery, One Artery, Bifur...\n",
       "2    027034Z           10  Dilation of Coronary Artery, One Artery with D...\n",
       "3     270356           10  Dilation of Coronary Artery, One Artery, Bifur...\n",
       "4    027035Z           10  Dilation of Coronary Artery, One Artery with T...\n",
       "..       ...          ...                                                ...\n",
       "179  3E07316           10  Introduction of Recombinant Human-activated Pr...\n",
       "180  3E07317           10  Introduction of Other Thrombolytic into Corona...\n",
       "181  3E073GC           10  Introduction of Other Therapeutic Substance in...\n",
       "182  3E073KZ           10  Introduction of Other Diagnostic Substance int...\n",
       "183  3E073PZ           10  Introduction of Platelet Inhibitor into Corona...\n",
       "\n",
       "[184 rows x 3 columns]"
      ]
     },
     "execution_count": 56,
     "metadata": {},
     "output_type": "execute_result"
    }
   ],
   "source": [
    "pci_icd_codes = pd.read_excel(os.path.join(path_to_local_files, 'pci_d_icd_procedures.xlsx'))\n",
    "pci_icd_codes"
   ]
  },
  {
   "cell_type": "code",
   "execution_count": 57,
   "id": "4bd1e4f4-7120-4cf6-804b-8c2583c9d520",
   "metadata": {},
   "outputs": [
    {
     "data": {
      "text/html": [
       "<div>\n",
       "<style scoped>\n",
       "    .dataframe tbody tr th:only-of-type {\n",
       "        vertical-align: middle;\n",
       "    }\n",
       "\n",
       "    .dataframe tbody tr th {\n",
       "        vertical-align: top;\n",
       "    }\n",
       "\n",
       "    .dataframe thead th {\n",
       "        text-align: right;\n",
       "    }\n",
       "</style>\n",
       "<table border=\"1\" class=\"dataframe\">\n",
       "  <thead>\n",
       "    <tr style=\"text-align: right;\">\n",
       "      <th></th>\n",
       "      <th>icd_code</th>\n",
       "      <th>icd_version</th>\n",
       "      <th>long_title</th>\n",
       "    </tr>\n",
       "  </thead>\n",
       "  <tbody>\n",
       "    <tr>\n",
       "      <th>0</th>\n",
       "      <td>24</td>\n",
       "      <td>9</td>\n",
       "      <td>Intravascular imaging of coronary vessels</td>\n",
       "    </tr>\n",
       "    <tr>\n",
       "      <th>1</th>\n",
       "      <td>59</td>\n",
       "      <td>9</td>\n",
       "      <td>Intravascular pressure measurement of coronary...</td>\n",
       "    </tr>\n",
       "    <tr>\n",
       "      <th>2</th>\n",
       "      <td>3824</td>\n",
       "      <td>9</td>\n",
       "      <td>Intravascular imaging of coronary vessel(s) by...</td>\n",
       "    </tr>\n",
       "    <tr>\n",
       "      <th>3</th>\n",
       "      <td>3825</td>\n",
       "      <td>9</td>\n",
       "      <td>Intravascular imaging of non-coronary vessel(s...</td>\n",
       "    </tr>\n",
       "    <tr>\n",
       "      <th>4</th>\n",
       "      <td>8852</td>\n",
       "      <td>9</td>\n",
       "      <td>Angiocardiography of right heart structures</td>\n",
       "    </tr>\n",
       "    <tr>\n",
       "      <th>...</th>\n",
       "      <td>...</td>\n",
       "      <td>...</td>\n",
       "      <td>...</td>\n",
       "    </tr>\n",
       "    <tr>\n",
       "      <th>79</th>\n",
       "      <td>B2181ZZ</td>\n",
       "      <td>10</td>\n",
       "      <td>Fluoroscopy of Left Internal Mammary Bypass Gr...</td>\n",
       "    </tr>\n",
       "    <tr>\n",
       "      <th>80</th>\n",
       "      <td>B218YZZ</td>\n",
       "      <td>10</td>\n",
       "      <td>Fluoroscopy of Left Internal Mammary Bypass Gr...</td>\n",
       "    </tr>\n",
       "    <tr>\n",
       "      <th>81</th>\n",
       "      <td>B21F0ZZ</td>\n",
       "      <td>10</td>\n",
       "      <td>Fluoroscopy of Other Bypass Graft using High O...</td>\n",
       "    </tr>\n",
       "    <tr>\n",
       "      <th>82</th>\n",
       "      <td>B21F1ZZ</td>\n",
       "      <td>10</td>\n",
       "      <td>Fluoroscopy of Other Bypass Graft using Low Os...</td>\n",
       "    </tr>\n",
       "    <tr>\n",
       "      <th>83</th>\n",
       "      <td>B21FYZZ</td>\n",
       "      <td>10</td>\n",
       "      <td>Fluoroscopy of Other Bypass Graft using Other ...</td>\n",
       "    </tr>\n",
       "  </tbody>\n",
       "</table>\n",
       "<p>84 rows × 3 columns</p>\n",
       "</div>"
      ],
      "text/plain": [
       "   icd_code  icd_version                                         long_title\n",
       "0        24            9          Intravascular imaging of coronary vessels\n",
       "1        59            9  Intravascular pressure measurement of coronary...\n",
       "2      3824            9  Intravascular imaging of coronary vessel(s) by...\n",
       "3      3825            9  Intravascular imaging of non-coronary vessel(s...\n",
       "4      8852            9        Angiocardiography of right heart structures\n",
       "..      ...          ...                                                ...\n",
       "79  B2181ZZ           10  Fluoroscopy of Left Internal Mammary Bypass Gr...\n",
       "80  B218YZZ           10  Fluoroscopy of Left Internal Mammary Bypass Gr...\n",
       "81  B21F0ZZ           10  Fluoroscopy of Other Bypass Graft using High O...\n",
       "82  B21F1ZZ           10  Fluoroscopy of Other Bypass Graft using Low Os...\n",
       "83  B21FYZZ           10  Fluoroscopy of Other Bypass Graft using Other ...\n",
       "\n",
       "[84 rows x 3 columns]"
      ]
     },
     "execution_count": 57,
     "metadata": {},
     "output_type": "execute_result"
    }
   ],
   "source": [
    "cag_icd_codes = pd.read_excel(os.path.join(path_to_local_files, 'cag_d_icd_procedures.xlsx'))\n",
    "cag_icd_codes"
   ]
  },
  {
   "cell_type": "code",
   "execution_count": 58,
   "id": "5f5e4e36-76b8-45de-82f1-72fa732c1ac3",
   "metadata": {},
   "outputs": [],
   "source": [
    "procedures_grouped = procedures.groupby('hadm_id')['icd_code'].apply(list).reset_index()\n",
    "combined_ecgs_cleaned_with_procedures = pd.merge(combined_ecgs_cleaned, procedures_grouped, on='hadm_id', how='left')\n",
    "\n",
    "combined_ecgs_cleaned_with_procedures['icd_code'] = combined_ecgs_cleaned_with_procedures['icd_code'].apply(lambda x: x if isinstance(x, list) else [])"
   ]
  },
  {
   "cell_type": "code",
   "execution_count": 59,
   "id": "d7b54922-e285-4e70-bb10-9040eea36a68",
   "metadata": {},
   "outputs": [
    {
     "data": {
      "text/plain": [
       "(287504, 2)"
      ]
     },
     "execution_count": 59,
     "metadata": {},
     "output_type": "execute_result"
    }
   ],
   "source": [
    "procedures_grouped.shape"
   ]
  },
  {
   "cell_type": "code",
   "execution_count": 60,
   "id": "31aebba7-dd3c-4114-a3c2-5df538f3ceaa",
   "metadata": {},
   "outputs": [],
   "source": [
    "revasc_code_set = set(revasc_icd_codes['icd_code'])\n",
    "\n",
    "def check_revasc(icd_list):\n",
    "    return 1 if any(code in revasc_code_set for code in icd_list) else 0\n",
    "\n",
    "# Apply the function to each row's 'icd_code' column to create the 'PCI_OR_CABG' column\n",
    "combined_ecgs_cleaned_with_procedures['REVASC'] = combined_ecgs_cleaned_with_procedures['icd_code'].apply(check_revasc)\n"
   ]
  },
  {
   "cell_type": "code",
   "execution_count": 61,
   "id": "83db04ca-3905-4813-b497-ab95e86b166f",
   "metadata": {},
   "outputs": [
    {
     "data": {
      "text/plain": [
       "REVASC\n",
       "0    179602\n",
       "1      1084\n",
       "Name: count, dtype: int64"
      ]
     },
     "execution_count": 61,
     "metadata": {},
     "output_type": "execute_result"
    }
   ],
   "source": [
    "combined_ecgs_cleaned_with_procedures['REVASC'].value_counts()"
   ]
  },
  {
   "cell_type": "code",
   "execution_count": 62,
   "id": "19d48d14-03e0-441d-abcf-d209ea81454f",
   "metadata": {},
   "outputs": [],
   "source": [
    "cabg_code_set = set(cabg_icd_codes['icd_code'])\n",
    "\n",
    "# Define a function to check if any of the ICD codes in the list are in the PCI/CABG set\n",
    "def check_cabg(icd_list):\n",
    "    return 1 if any(code in cabg_code_set for code in icd_list) else 0\n",
    "\n",
    "# Apply the function to each row's 'icd_code' column to create the 'PCI_OR_CABG' column\n",
    "combined_ecgs_cleaned_with_procedures['CABG'] = combined_ecgs_cleaned_with_procedures['icd_code'].apply(check_cabg)\n"
   ]
  },
  {
   "cell_type": "code",
   "execution_count": 63,
   "id": "2f5a7550-f9fd-4de1-bbd3-70a47a0c1c3f",
   "metadata": {},
   "outputs": [
    {
     "data": {
      "text/plain": [
       "CABG\n",
       "0    180433\n",
       "1       253\n",
       "Name: count, dtype: int64"
      ]
     },
     "execution_count": 63,
     "metadata": {},
     "output_type": "execute_result"
    }
   ],
   "source": [
    "combined_ecgs_cleaned_with_procedures['CABG'].value_counts()"
   ]
  },
  {
   "cell_type": "code",
   "execution_count": 64,
   "id": "6fc9b1b1-ccf0-4a3e-906a-d0ebea86ddf8",
   "metadata": {},
   "outputs": [],
   "source": [
    "pci_code_set = set(pci_icd_codes['icd_code'])\n",
    "\n",
    "def check_pci(icd_list):\n",
    "    return 1 if any(code in pci_code_set for code in icd_list) else 0\n",
    "\n",
    "# Apply the function to each row's 'icd_code' column to create the 'PCI_OR_CABG' column\n",
    "combined_ecgs_cleaned_with_procedures['PCI'] = combined_ecgs_cleaned_with_procedures['icd_code'].apply(check_pci)"
   ]
  },
  {
   "cell_type": "code",
   "execution_count": 65,
   "id": "f4246960-d152-4270-b52f-ddb2707d5bf0",
   "metadata": {},
   "outputs": [
    {
     "data": {
      "text/plain": [
       "PCI\n",
       "0    179851\n",
       "1       835\n",
       "Name: count, dtype: int64"
      ]
     },
     "execution_count": 65,
     "metadata": {},
     "output_type": "execute_result"
    }
   ],
   "source": [
    "combined_ecgs_cleaned_with_procedures['PCI'].value_counts()"
   ]
  },
  {
   "cell_type": "code",
   "execution_count": 66,
   "id": "77dcb91a-e6c8-4418-b8ab-26fef4b21e7e",
   "metadata": {},
   "outputs": [
    {
     "data": {
      "text/plain": [
       "(4, 14)"
      ]
     },
     "execution_count": 66,
     "metadata": {},
     "output_type": "execute_result"
    }
   ],
   "source": [
    "combined_ecgs_cleaned_with_procedures[(combined_ecgs_cleaned_with_procedures['PCI']==1) & (combined_ecgs_cleaned_with_procedures['CABG']==1)].shape"
   ]
  },
  {
   "cell_type": "code",
   "execution_count": 67,
   "id": "35fd2f4b-f537-441b-b184-0e9ccb19b0f0",
   "metadata": {},
   "outputs": [],
   "source": [
    "cag_code_set = set(cag_icd_codes['icd_code'])\n",
    "\n",
    "def check_cag(icd_list):\n",
    "    return 1 if any(code in cag_code_set for code in icd_list) else 0\n",
    "\n",
    "# Apply the function to each row's 'icd_code' column to create the 'PCI_OR_CABG' column\n",
    "combined_ecgs_cleaned_with_procedures['CAG'] = combined_ecgs_cleaned_with_procedures['icd_code'].apply(check_cag)"
   ]
  },
  {
   "cell_type": "code",
   "execution_count": 68,
   "id": "2c10f292-643c-4412-b091-928796ff9488",
   "metadata": {},
   "outputs": [
    {
     "data": {
      "text/plain": [
       "CAG\n",
       "0    178583\n",
       "1      2103\n",
       "Name: count, dtype: int64"
      ]
     },
     "execution_count": 68,
     "metadata": {},
     "output_type": "execute_result"
    }
   ],
   "source": [
    "combined_ecgs_cleaned_with_procedures['CAG'].value_counts()"
   ]
  },
  {
   "cell_type": "code",
   "execution_count": 69,
   "id": "e76a04e5-366d-4e2b-a2cf-2c08d98a6a86",
   "metadata": {},
   "outputs": [
    {
     "data": {
      "text/plain": [
       "(180686, 14)"
      ]
     },
     "execution_count": 69,
     "metadata": {},
     "output_type": "execute_result"
    }
   ],
   "source": [
    "# Drop the 'icd_code' column\n",
    "ecg_dataset = combined_ecgs_cleaned_with_procedures.drop(columns=['icd_code'])\n",
    "ecg_dataset.shape"
   ]
  },
  {
   "cell_type": "code",
   "execution_count": 70,
   "id": "82b0fedb-27c9-4dda-9c04-2f40fa84550f",
   "metadata": {},
   "outputs": [
    {
     "data": {
      "text/plain": [
       "(364627, 6)"
      ]
     },
     "execution_count": 70,
     "metadata": {},
     "output_type": "execute_result"
    }
   ],
   "source": [
    "patients = pd.read_csv(os.path.join(path_to_mimic, 'hosp/patients.csv'))\n",
    "patients.shape"
   ]
  },
  {
   "cell_type": "code",
   "execution_count": 71,
   "id": "b789bf3d-9c7f-4129-83d0-6e3ce0687dc0",
   "metadata": {},
   "outputs": [
    {
     "data": {
      "text/plain": [
       "(180686, 16)"
      ]
     },
     "execution_count": 71,
     "metadata": {},
     "output_type": "execute_result"
    }
   ],
   "source": [
    "ecg_dataset = ecg_dataset.merge(patients[['subject_id', 'gender', 'anchor_age']], on='subject_id', how='left')\n",
    "ecg_dataset.shape"
   ]
  },
  {
   "cell_type": "code",
   "execution_count": 72,
   "id": "f0318888-31a0-4f01-9e06-1ca1af64c00c",
   "metadata": {},
   "outputs": [],
   "source": [
    "merged_df = pd.merge(ecg_dataset, lab_troponin_t_cleaned, on='subject_id', suffixes=('_ecg', '_troponin'))"
   ]
  },
  {
   "cell_type": "code",
   "execution_count": 73,
   "id": "00f19902-bd05-4ba6-ae66-0bb23f125684",
   "metadata": {},
   "outputs": [
    {
     "data": {
      "text/plain": [
       "(1799240, 31)"
      ]
     },
     "execution_count": 73,
     "metadata": {},
     "output_type": "execute_result"
    }
   ],
   "source": [
    "merged_df.shape"
   ]
  },
  {
   "cell_type": "code",
   "execution_count": 74,
   "id": "f147ffad-206d-495c-8583-368f0cbc12f9",
   "metadata": {},
   "outputs": [],
   "source": [
    "filtered_df = merged_df[\n",
    "    (merged_df['charttime'] >= merged_df['edregtime']) &\n",
    "    (merged_df['charttime'] <= merged_df['edregtime'] + pd.Timedelta(hours=3))\n",
    "]"
   ]
  },
  {
   "cell_type": "code",
   "execution_count": 75,
   "id": "c175f725-a432-449a-92ef-32018468c58a",
   "metadata": {},
   "outputs": [
    {
     "data": {
      "text/plain": [
       "(86080, 31)"
      ]
     },
     "execution_count": 75,
     "metadata": {},
     "output_type": "execute_result"
    }
   ],
   "source": [
    "filtered_df.shape"
   ]
  },
  {
   "cell_type": "code",
   "execution_count": 76,
   "id": "31fd9c59-f3ef-43d6-a590-1c22c7289669",
   "metadata": {},
   "outputs": [
    {
     "data": {
      "text/plain": [
       "Index(['subject_id', 'study_id', 'file_name', 'ecg_time', 'path', 'edregtime',\n",
       "       'ed_stay_id', 'arrival_transport', 'race', 'hadm_id_ecg', 'REVASC',\n",
       "       'CABG', 'PCI', 'CAG', 'gender', 'anchor_age', 'labevent_id',\n",
       "       'hadm_id_troponin', 'specimen_id', 'itemid', 'order_provider_id',\n",
       "       'charttime', 'storetime', 'value', 'valuenum', 'valueuom',\n",
       "       'ref_range_lower', 'ref_range_upper', 'flag', 'priority', 'comments'],\n",
       "      dtype='object')"
      ]
     },
     "execution_count": 76,
     "metadata": {},
     "output_type": "execute_result"
    }
   ],
   "source": [
    "filtered_df.columns"
   ]
  },
  {
   "cell_type": "code",
   "execution_count": 77,
   "id": "1a0e0762-707a-406b-8186-6a47c40ae14e",
   "metadata": {},
   "outputs": [
    {
     "data": {
      "text/plain": [
       "(84881, 2)"
      ]
     },
     "execution_count": 77,
     "metadata": {},
     "output_type": "execute_result"
    }
   ],
   "source": [
    "filtered_df = filtered_df.sort_values(by=['study_id', 'charttime'])\n",
    "\n",
    "grouped = filtered_df.groupby('study_id')['valuenum'].apply(lambda x: list(x[:3])).reset_index()\n",
    "grouped.shape"
   ]
  },
  {
   "cell_type": "code",
   "execution_count": 78,
   "id": "908d8bcc-966f-45f2-93e0-37c7820d6c6a",
   "metadata": {},
   "outputs": [
    {
     "data": {
      "text/plain": [
       "(84881, 6)"
      ]
     },
     "execution_count": 78,
     "metadata": {},
     "output_type": "execute_result"
    }
   ],
   "source": [
    "# Create columns for the first, second, and third troponin values\n",
    "grouped['first_troponin_t'] = grouped['valuenum'].apply(lambda x: x[0] if len(x) > 0 else np.nan)\n",
    "grouped['second_troponin_t'] = grouped['valuenum'].apply(lambda x: x[1] if len(x) > 1 else np.nan)\n",
    "grouped['third_troponin_t'] = grouped['valuenum'].apply(lambda x: x[2] if len(x) > 2 else np.nan)\n",
    "\n",
    "# Calculate troponin_t_delta (difference between the highest and lowest values)\n",
    "grouped['troponin_t_delta'] = grouped['valuenum'].apply(lambda x: max(x) - min(x) if len(x) > 1 else np.nan)\n",
    "grouped.shape"
   ]
  },
  {
   "cell_type": "code",
   "execution_count": 79,
   "id": "7aeff561-f7e4-4d6d-b086-d4c0fc7c8c5c",
   "metadata": {},
   "outputs": [
    {
     "data": {
      "text/plain": [
       "(180686, 4)"
      ]
     },
     "execution_count": 79,
     "metadata": {},
     "output_type": "execute_result"
    }
   ],
   "source": [
    "ecg_dataset = pd.merge(ecg_dataset, grouped[['study_id', 'first_troponin_t', 'second_troponin_t', 'third_troponin_t', 'troponin_t_delta']], on='study_id', how='left')\n",
    "\n",
    "ecg_dataset.iloc[:, -4:].shape"
   ]
  },
  {
   "cell_type": "code",
   "execution_count": 80,
   "id": "0ea8d29b-7a71-4399-b13a-50e2fd68b689",
   "metadata": {},
   "outputs": [
    {
     "data": {
      "text/plain": [
       "95805"
      ]
     },
     "execution_count": 80,
     "metadata": {},
     "output_type": "execute_result"
    }
   ],
   "source": [
    "ecg_dataset['first_troponin_t'].isna().sum()"
   ]
  },
  {
   "cell_type": "code",
   "execution_count": 81,
   "id": "d0dcbc2e-8408-4ffb-b695-afc3f0cdc09b",
   "metadata": {},
   "outputs": [],
   "source": [
    "merged_df = pd.merge(ecg_dataset, lab_ck_cleaned, on='subject_id', suffixes=('_ecg', '_ck'))\n",
    "\n",
    "filtered_df = merged_df[\n",
    "    (merged_df['charttime'] >= merged_df['edregtime']) &\n",
    "    (merged_df['charttime'] <= merged_df['edregtime'] + pd.Timedelta(hours=3))\n",
    "]\n",
    "\n",
    "filtered_df = filtered_df.sort_values(by=['study_id', 'charttime'])\n",
    "\n",
    "grouped = filtered_df.groupby('study_id')['valuenum'].apply(lambda x: list(x[:3])).reset_index()\n",
    "\n",
    "# Create columns for the first, second, and third troponin values\n",
    "grouped['first_ck'] = grouped['valuenum'].apply(lambda x: x[0] if len(x) > 0 else np.nan)\n",
    "grouped['second_ck'] = grouped['valuenum'].apply(lambda x: x[1] if len(x) > 1 else np.nan)\n",
    "grouped['third_ck'] = grouped['valuenum'].apply(lambda x: x[2] if len(x) > 2 else np.nan)\n",
    "\n",
    "# Calculate troponin_t_delta (difference between the highest and lowest values)\n",
    "grouped['ck_delta'] = grouped['valuenum'].apply(lambda x: max(x) - min(x) if len(x) > 1 else np.nan)\n",
    "\n",
    "# Merge these new columns back into ecg_dataset\n",
    "ecg_dataset = pd.merge(ecg_dataset, grouped[['study_id', 'first_ck', 'second_ck', 'third_ck', 'ck_delta']], on='study_id', how='left')"
   ]
  },
  {
   "cell_type": "code",
   "execution_count": 82,
   "id": "69d92fec-02c8-458b-b407-9bbcd523d565",
   "metadata": {},
   "outputs": [
    {
     "data": {
      "text/plain": [
       "147454"
      ]
     },
     "execution_count": 82,
     "metadata": {},
     "output_type": "execute_result"
    }
   ],
   "source": [
    "ecg_dataset['first_ck'].isna().sum()"
   ]
  },
  {
   "cell_type": "code",
   "execution_count": 83,
   "id": "459c8d59-4442-47ed-8398-c38d3e449512",
   "metadata": {},
   "outputs": [],
   "source": [
    "# Merge the DataFrames on subject_id\n",
    "merged_df = pd.merge(ecg_dataset, lab_ckmb_cleaned, on='subject_id', suffixes=('_ecg', '_ckmb'))\n",
    "\n",
    "filtered_df = merged_df[\n",
    "    (merged_df['charttime'] >= merged_df['edregtime']) &\n",
    "    (merged_df['charttime'] <= merged_df['edregtime'] + pd.Timedelta(hours=3))\n",
    "]\n",
    "\n",
    "# SSort the DataFrame by study_id and charttime\n",
    "filtered_df = filtered_df.sort_values(by=['study_id', 'charttime'])\n",
    "\n",
    "# roup by study_id and get the first, second, and third troponin values\n",
    "grouped = filtered_df.groupby('study_id')['valuenum'].apply(lambda x: list(x[:3])).reset_index()\n",
    "\n",
    "grouped['first_ckmb'] = grouped['valuenum'].apply(lambda x: x[0] if len(x) > 0 else np.nan)\n",
    "grouped['second_ckmb'] = grouped['valuenum'].apply(lambda x: x[1] if len(x) > 1 else np.nan)\n",
    "grouped['third_ckmb'] = grouped['valuenum'].apply(lambda x: x[2] if len(x) > 2 else np.nan)\n",
    "\n",
    "# Calculate troponin_t_delta (difference between the highest and lowest values)\n",
    "grouped['ckmb_delta'] = grouped['valuenum'].apply(lambda x: max(x) - min(x) if len(x) > 1 else np.nan)\n",
    "\n",
    "ecg_dataset = pd.merge(ecg_dataset, grouped[['study_id', 'first_ckmb', 'second_ckmb', 'third_ckmb', 'ckmb_delta']], on='study_id', how='left')"
   ]
  },
  {
   "cell_type": "code",
   "execution_count": 84,
   "id": "8223a983-a2a0-4cdd-b800-b4ffdd089ade",
   "metadata": {},
   "outputs": [
    {
     "name": "stderr",
     "output_type": "stream",
     "text": [
      "/tmp/ipykernel_3335723/1390149727.py:1: DtypeWarning: Columns (16,17,18,19,20,21) have mixed types. Specify dtype option on import or set low_memory=False.\n",
      "  machine_measurements = pd.read_csv(os.path.join(path_to_mimic_ecg, 'machine_measurements.csv'))\n"
     ]
    },
    {
     "data": {
      "text/plain": [
       "(800035, 33)"
      ]
     },
     "execution_count": 84,
     "metadata": {},
     "output_type": "execute_result"
    }
   ],
   "source": [
    "machine_measurements = pd.read_csv(os.path.join(path_to_mimic_ecg, 'machine_measurements.csv'))\n",
    "machine_measurements.shape"
   ]
  },
  {
   "cell_type": "code",
   "execution_count": 85,
   "id": "bfcceca2-0463-4c2a-85e4-bdbddeb710bc",
   "metadata": {},
   "outputs": [
    {
     "data": {
      "text/plain": [
       "Index(['subject_id', 'study_id', 'cart_id', 'ecg_time', 'report_0', 'report_1',\n",
       "       'report_2', 'report_3', 'report_4', 'report_5', 'report_6', 'report_7',\n",
       "       'report_8', 'report_9', 'report_10', 'report_11', 'report_12',\n",
       "       'report_13', 'report_14', 'report_15', 'report_16', 'report_17',\n",
       "       'bandwidth', 'filtering', 'rr_interval', 'p_onset', 'p_end',\n",
       "       'qrs_onset', 'qrs_end', 't_end', 'p_axis', 'qrs_axis', 't_axis',\n",
       "       'rr_interval_seconds', 'ventricular_rate', 'pr_interval',\n",
       "       'p_wave_duration', 'qrs_duration', 'qt_interval'],\n",
       "      dtype='object')"
      ]
     },
     "execution_count": 85,
     "metadata": {},
     "output_type": "execute_result"
    }
   ],
   "source": [
    "machine_measurements['rr_interval_seconds'] = machine_measurements['rr_interval'] / 1000\n",
    "machine_measurements['ventricular_rate'] = 60 / machine_measurements['rr_interval_seconds']\n",
    "\n",
    "machine_measurements['pr_interval'] = machine_measurements['qrs_onset'] - machine_measurements['p_onset']\n",
    "machine_measurements['p_wave_duration'] = machine_measurements['p_end'] - machine_measurements['p_onset']\n",
    "machine_measurements['qrs_duration'] = machine_measurements['qrs_end'] - machine_measurements['qrs_onset']\n",
    "machine_measurements['qt_interval'] = machine_measurements['t_end'] - machine_measurements['qrs_onset']\n",
    "machine_measurements.columns"
   ]
  },
  {
   "cell_type": "code",
   "execution_count": 86,
   "id": "e087fd3e-b8d3-498b-ad24-205230462b91",
   "metadata": {},
   "outputs": [
    {
     "data": {
      "text/plain": [
       "count    800035.000000\n",
       "mean      -4419.455578\n",
       "std       10790.427735\n",
       "min      -29999.000000\n",
       "25%         128.000000\n",
       "50%         153.000000\n",
       "75%         176.000000\n",
       "max       29863.000000\n",
       "Name: pr_interval, dtype: float64"
      ]
     },
     "execution_count": 86,
     "metadata": {},
     "output_type": "execute_result"
    }
   ],
   "source": [
    "machine_measurements['pr_interval'].describe()"
   ]
  },
  {
   "cell_type": "code",
   "execution_count": 87,
   "id": "c7af4333-2e04-467e-9699-31411119d96b",
   "metadata": {},
   "outputs": [],
   "source": [
    "# Checks for plausibility of values\n",
    "machine_measurements['pr_interval'] = machine_measurements['pr_interval'].apply(lambda x: np.nan if x < 20 or x > 500 else x)\n",
    "machine_measurements['p_wave_duration'] = machine_measurements['p_wave_duration'].apply(lambda x: np.nan if x <= 20 or x > 300 else x)\n",
    "machine_measurements['qrs_duration'] = machine_measurements['qrs_duration'].apply(lambda x: np.nan if x < 50 or x > 300 else x)\n",
    "machine_measurements['qt_interval'] = machine_measurements['qt_interval'].apply(lambda x: np.nan if x < 200 or x > 700 else x)"
   ]
  },
  {
   "cell_type": "code",
   "execution_count": 88,
   "id": "d94bd0eb-8b1f-423a-9d63-416d0e924a97",
   "metadata": {},
   "outputs": [],
   "source": [
    "# Calculate qtc_interval using Bazett's formula\n",
    "machine_measurements['qtc_interval'] = machine_measurements['qt_interval'] / np.sqrt(60 / machine_measurements['ventricular_rate'])\n",
    "\n",
    "# Drop the temporary rr_interval_sec column if not needed\n",
    "machine_measurements.drop(columns=['rr_interval_seconds'], inplace=True)"
   ]
  },
  {
   "cell_type": "code",
   "execution_count": 89,
   "id": "10c70ed2-db60-4893-b702-424d225b7f29",
   "metadata": {},
   "outputs": [],
   "source": [
    "# Replace p_axis with NaN if p_wave_duration is NaN\n",
    "machine_measurements['p_axis'] = machine_measurements.apply(\n",
    "    lambda row: np.nan if pd.isna(row['p_wave_duration']) else row['p_axis'], axis=1\n",
    ")\n",
    "\n",
    "# Replace qrs_axis with NaN if qrs_duration is NaN\n",
    "machine_measurements['qrs_axis'] = machine_measurements.apply(\n",
    "    lambda row: np.nan if pd.isna(row['qrs_duration']) else row['qrs_axis'], axis=1\n",
    ")\n",
    "\n",
    "# Replace t_axis with NaN if qt_interval is NaN\n",
    "machine_measurements['t_axis'] = machine_measurements.apply(\n",
    "    lambda row: np.nan if pd.isna(row['qt_interval']) else row['t_axis'], axis=1\n",
    ")"
   ]
  },
  {
   "cell_type": "code",
   "execution_count": 90,
   "id": "e3faaaf5-5a40-44c5-82aa-0385fe27c3ce",
   "metadata": {},
   "outputs": [
    {
     "data": {
      "text/plain": [
       "count    798267.000000\n",
       "mean         58.523329\n",
       "std        1149.475732\n",
       "min        -180.000000\n",
       "25%         -15.000000\n",
       "50%          13.000000\n",
       "75%          45.000000\n",
       "max       29999.000000\n",
       "Name: qrs_axis, dtype: float64"
      ]
     },
     "execution_count": 90,
     "metadata": {},
     "output_type": "execute_result"
    }
   ],
   "source": [
    "machine_measurements['qrs_axis'].describe()"
   ]
  },
  {
   "cell_type": "code",
   "execution_count": 91,
   "id": "2214fcfd-e444-4d67-a00f-842a087c95e7",
   "metadata": {},
   "outputs": [],
   "source": [
    "machine_measurements['p_axis'] = machine_measurements['p_axis'].apply(lambda x: np.nan if x < -90 or x > 270 else x)\n",
    "machine_measurements['qrs_axis'] = machine_measurements['qrs_axis'].apply(lambda x: np.nan if x < -90 or x > 270 else x)\n",
    "machine_measurements['t_axis'] = machine_measurements['t_axis'].apply(lambda x: np.nan if x < -90 or x > 270 else x)"
   ]
  },
  {
   "cell_type": "code",
   "execution_count": 92,
   "id": "1b7683ab-8361-4899-976e-5815bcbbab56",
   "metadata": {},
   "outputs": [
    {
     "data": {
      "text/plain": [
       "(800035, 39)"
      ]
     },
     "execution_count": 92,
     "metadata": {},
     "output_type": "execute_result"
    }
   ],
   "source": [
    "machine_measurements.shape"
   ]
  },
  {
   "cell_type": "code",
   "execution_count": 93,
   "id": "21b06568-456a-440b-aa77-478e7110fc2b",
   "metadata": {},
   "outputs": [
    {
     "data": {
      "text/plain": [
       "(180686, 38)"
      ]
     },
     "execution_count": 93,
     "metadata": {},
     "output_type": "execute_result"
    }
   ],
   "source": [
    "columns_to_merge = [\n",
    "    'study_id', 'report_0', 'ventricular_rate', 'pr_interval', \n",
    "    'p_wave_duration', 'qrs_duration', 'qt_interval', 'qtc_interval',\n",
    "    'p_axis', 'qrs_axis', 't_axis'\n",
    "]\n",
    "\n",
    "machine_measurements_to_merge = machine_measurements[columns_to_merge]\n",
    "\n",
    "ecg_dataset = pd.merge(ecg_dataset, machine_measurements_to_merge, on='study_id', how='left')\n",
    "ecg_dataset.shape"
   ]
  },
  {
   "cell_type": "code",
   "execution_count": 94,
   "id": "8762f742-b98f-4153-82ec-4d7b613e1390",
   "metadata": {},
   "outputs": [
    {
     "data": {
      "text/plain": [
       "sinus_rhythm\n",
       "1    107609\n",
       "0     73077\n",
       "Name: count, dtype: int64"
      ]
     },
     "execution_count": 94,
     "metadata": {},
     "output_type": "execute_result"
    }
   ],
   "source": [
    "ecg_dataset = ecg_dataset.rename(columns={'report_0': 'rhythm'})\n",
    "\n",
    "ecg_dataset['sinus_rhythm'] = ecg_dataset['rhythm'].apply(lambda x: 1 if pd.notna(x) and 'sinus rhythm' in x.lower() else 0)\n",
    "ecg_dataset['sinus_rhythm'].value_counts()"
   ]
  },
  {
   "cell_type": "code",
   "execution_count": 95,
   "id": "95812e70-adfe-4ba8-b238-24019f8933d5",
   "metadata": {},
   "outputs": [
    {
     "data": {
      "text/plain": [
       "(6364520, 5)"
      ]
     },
     "execution_count": 95,
     "metadata": {},
     "output_type": "execute_result"
    }
   ],
   "source": [
    "diagnoses_hosp = pd.read_csv(os.path.join(path_to_mimic, 'hosp/diagnoses_icd.csv'))\n",
    "diagnoses_hosp.shape"
   ]
  },
  {
   "cell_type": "code",
   "execution_count": 96,
   "id": "32f6f17a-5fdf-454b-b325-4743ade23259",
   "metadata": {},
   "outputs": [
    {
     "data": {
      "text/plain": [
       "(112107, 3)"
      ]
     },
     "execution_count": 96,
     "metadata": {},
     "output_type": "execute_result"
    }
   ],
   "source": [
    "diagnoses_hosp_ids = pd.read_csv(os.path.join(path_to_mimic, 'hosp/d_icd_diagnoses.csv'))\n",
    "diagnoses_hosp_ids.shape"
   ]
  },
  {
   "cell_type": "code",
   "execution_count": 97,
   "id": "c2a444bb-b561-4d90-9727-6a302caabcfb",
   "metadata": {},
   "outputs": [
    {
     "data": {
      "text/plain": [
       "(899050, 6)"
      ]
     },
     "execution_count": 97,
     "metadata": {},
     "output_type": "execute_result"
    }
   ],
   "source": [
    "diagnoses_ed = pd.read_csv(os.path.join(path_to_mimic_ed, 'ed/diagnosis.csv'))\n",
    "diagnoses_ed.shape"
   ]
  },
  {
   "cell_type": "code",
   "execution_count": 98,
   "id": "9d036d5f-c7dc-4bf5-883f-4980a2f3dada",
   "metadata": {},
   "outputs": [],
   "source": [
    "diabetes_ids = diagnoses_hosp_ids[diagnoses_hosp_ids['long_title'].str.contains('diabetes', case=False, na=False)]\n",
    "\n",
    "diabetes_icd_codes = diabetes_ids['icd_code'].unique()"
   ]
  },
  {
   "cell_type": "code",
   "execution_count": 99,
   "id": "83b06cec-74a3-44fa-9d24-304f5c9d00ce",
   "metadata": {},
   "outputs": [],
   "source": [
    "diabetes_labels = diagnoses_hosp_ids[diagnoses_hosp_ids['icd_code'].isin(diabetes_icd_codes)]\n",
    "\n",
    "result = diabetes_labels[['icd_code', 'long_title']]"
   ]
  },
  {
   "cell_type": "markdown",
   "id": "a5c26bd0-3682-4410-a1cc-28dd81235796",
   "metadata": {},
   "source": [
    "We will export this list for manual filtering of relevant ICD codes for diabetes. We have the same approach for all relevant diagnoses in the following"
   ]
  },
  {
   "cell_type": "code",
   "execution_count": 100,
   "id": "dc2e5717-6b72-4aaf-be7a-00becc3c85d7",
   "metadata": {},
   "outputs": [],
   "source": [
    "output_path = os.path.join(path_to_local_files, 'diabetes_icd_codes.xlsx')\n",
    "result.to_excel(output_path, index=False)"
   ]
  },
  {
   "cell_type": "code",
   "execution_count": 101,
   "id": "87095e26-677c-4a46-a908-a12b27a0ffd2",
   "metadata": {},
   "outputs": [
    {
     "name": "stdout",
     "output_type": "stream",
     "text": [
      "ICD Codes with 'hypertension' in long_title: ['3482' '36504' '4010' '4011' '4019' '40501' '40509' '40511' '40519'\n",
      " '40591' '40599' '4160' '45930' '45931' '45932' '45933' '45939' '5723'\n",
      " '64200' '64201' '64202' '64203' '64204' '64210' '64211' '64212' '64213'\n",
      " '64214' '64220' '64221' '64222' '64223' '64224' '64230' '64231' '64232'\n",
      " '64233' '64234' '64270' '64271' '64272' '64273' '64274' '64290' '64291'\n",
      " '64292' '64293' '64294' '64610' '64611' '64612' '64613' '64614' '64620'\n",
      " '64621' '64622' '64623' '64624' '7962' '99791' 'G932' 'H4005' 'H40051'\n",
      " 'H40052' 'H40053' 'H40059' 'I10' 'I15' 'I150' 'I151' 'I152' 'I158' 'I159'\n",
      " 'I270' 'I272' 'I2720' 'I2721' 'I2722' 'I2723' 'I2724' 'I2729' 'I873'\n",
      " 'I8730' 'I87301' 'I87302' 'I87303' 'I87309' 'I8731' 'I87311' 'I87312'\n",
      " 'I87313' 'I87319' 'I8732' 'I87321' 'I87322' 'I87323' 'I87329' 'I8733'\n",
      " 'I87331' 'I87332' 'I87333' 'I87339' 'I8739' 'I87391' 'I87392' 'I87393'\n",
      " 'I87399' 'I973' 'K766' 'O10' 'O100' 'O1001' 'O10011' 'O10012' 'O10013'\n",
      " 'O10019' 'O1002' 'O1003' 'O104' 'O1041' 'O10411' 'O10412' 'O10413'\n",
      " 'O10419' 'O1042' 'O1043' 'O109' 'O1091' 'O10911' 'O10912' 'O10913'\n",
      " 'O10919' 'O1092' 'O1093' 'O11' 'O111' 'O112' 'O113' 'O114' 'O115' 'O119'\n",
      " 'O12' 'O13' 'O131' 'O132' 'O133' 'O134' 'O135' 'O139' 'O16' 'O161' 'O162'\n",
      " 'O163' 'O164' 'O165' 'O169' 'P292' 'P2930' 'R030' 'V811']\n"
     ]
    }
   ],
   "source": [
    "hypertension_ids = diagnoses_hosp_ids[diagnoses_hosp_ids['long_title'].str.contains('hypertension', case=False, na=False)]\n",
    "\n",
    "hypertension_icd_codes = hypertension_ids['icd_code'].unique()\n",
    "\n",
    "print(\"ICD Codes with 'hypertension' in long_title:\", hypertension_icd_codes)\n",
    "\n",
    "hypertension_labels = diagnoses_hosp_ids[diagnoses_hosp_ids['icd_code'].isin(hypertension_icd_codes)]\n",
    "\n",
    "result = hypertension_labels[['icd_code', 'long_title']]"
   ]
  },
  {
   "cell_type": "code",
   "execution_count": 102,
   "id": "4aa943d0-c01d-4e8c-a63e-d348966ca9e5",
   "metadata": {},
   "outputs": [],
   "source": [
    "output_path = os.path.join(path_to_local_files, 'hypertension_icd_codes.xlsx')\n",
    "result.to_excel(output_path, index=False)"
   ]
  },
  {
   "cell_type": "code",
   "execution_count": 103,
   "id": "e4254802-b92a-4f36-8375-356cd2bc9ee7",
   "metadata": {},
   "outputs": [],
   "source": [
    "hyperlipidemia_ids = diagnoses_hosp_ids[\n",
    "    diagnoses_hosp_ids['long_title'].str.contains('hyperlipidemia|hypercholesterolemia|hyperglyceridemia|cholesterol|Lipoprotein', case=False, na=False)\n",
    "]\n",
    "\n",
    "hyperlipidemia_icd_codes = hyperlipidemia_ids['icd_code'].unique()\n",
    "\n",
    "\n",
    "# Filter the diagnoses_hosp_ids DataFrame to get the rows for the specific itemids found\n",
    "hyperlipidemia_labels = diagnoses_hosp_ids[diagnoses_hosp_ids['icd_code'].isin(hyperlipidemia_icd_codes)]\n",
    "\n",
    "result = hyperlipidemia_labels[['icd_code', 'long_title']]"
   ]
  },
  {
   "cell_type": "code",
   "execution_count": 104,
   "id": "82d0e966-d60f-40fb-940f-972994b16212",
   "metadata": {},
   "outputs": [],
   "source": [
    "output_path = os.path.join(path_to_local_files, 'hyperlipidemia_icd_codes.xlsx')\n",
    "result.to_excel(output_path, index=False)"
   ]
  },
  {
   "cell_type": "code",
   "execution_count": 105,
   "id": "f01c42e5-7d44-42e5-a2b4-c44c1af0d459",
   "metadata": {},
   "outputs": [
    {
     "name": "stdout",
     "output_type": "stream",
     "text": [
      "ICD Codes with 'old myocardial infarction' in long_title: ['412' 'I252']\n"
     ]
    }
   ],
   "source": [
    "old_mi_ids = diagnoses_hosp_ids[diagnoses_hosp_ids['long_title'].str.contains('old myocardial infarction', case=False, na=False)]\n",
    "\n",
    "# Extract the unique icd_code values for these rows\n",
    "old_mi_icd_codes = old_mi_ids['icd_code'].unique()\n",
    "\n",
    "print(\"ICD Codes with 'old myocardial infarction' in long_title:\", old_mi_icd_codes)\n",
    "\n",
    "# Filter the diagnoses_hosp_ids DataFrame to get the rows for the specific icd_codes found\n",
    "old_mi_labels = diagnoses_hosp_ids[diagnoses_hosp_ids['icd_code'].isin(old_mi_icd_codes)]\n",
    "\n",
    "result = old_mi_labels[['icd_code', 'long_title']]\n",
    "\n",
    "output_path = os.path.join(path_to_local_files, 'old_mi_icd_codes.xlsx')\n",
    "result.to_excel(output_path, index=False)"
   ]
  },
  {
   "cell_type": "code",
   "execution_count": 106,
   "id": "c8adc6c8-5e8f-4f66-ab45-ed9af7f54f6a",
   "metadata": {},
   "outputs": [
    {
     "data": {
      "text/plain": [
       "(695, 2)"
      ]
     },
     "execution_count": 106,
     "metadata": {},
     "output_type": "execute_result"
    }
   ],
   "source": [
    "relevant_diabetes_icd_codes = pd.read_excel(os.path.join(path_to_local_files, 'relevant_diabetes_icd_codes.xlsx'))\n",
    "relevant_diabetes_icd_codes.shape"
   ]
  },
  {
   "cell_type": "code",
   "execution_count": 107,
   "id": "5b7cc3b3-9e6b-4d65-bd0c-949f910a4226",
   "metadata": {},
   "outputs": [],
   "source": [
    "relevant_hypertension_icd_codes = pd.read_excel(os.path.join(path_to_local_files, 'relevant_hypertension_icd_codes.xlsx'))\n",
    "relevant_hyperlipidemia_icd_codes = pd.read_excel(os.path.join(path_to_local_files, 'relevant_hyperlipidemia_icd_codes.xlsx'))\n",
    "relevant_old_mi_icd_codes = pd.read_excel(os.path.join(path_to_local_files, 'relevant_old_mi_icd_codes.xlsx'))"
   ]
  },
  {
   "cell_type": "code",
   "execution_count": 108,
   "id": "942b839f-f33a-4e56-9592-8061d8177fca",
   "metadata": {},
   "outputs": [],
   "source": [
    "# Get the relevant ICD codes\n",
    "diabetes_icd_codes = relevant_diabetes_icd_codes['icd_code'].unique()\n",
    "hypertension_icd_codes = relevant_hypertension_icd_codes['icd_code'].unique()\n",
    "hyperlipidemia_icd_codes = relevant_hyperlipidemia_icd_codes['icd_code'].unique()\n",
    "old_mi_icd_codes = relevant_old_mi_icd_codes['icd_code'].unique()\n",
    "\n",
    "# Create a flag in diagnoses_hosp indicating if the icd_code is related to disease of interest\n",
    "diagnoses_hosp['diabetes_flag'] = diagnoses_hosp['icd_code'].isin(diabetes_icd_codes).astype(int)\n",
    "diagnoses_hosp['hypertension_flag'] = diagnoses_hosp['icd_code'].isin(hypertension_icd_codes).astype(int)\n",
    "diagnoses_hosp['hyperlipidemia_flag'] = diagnoses_hosp['icd_code'].isin(hyperlipidemia_icd_codes).astype(int)\n",
    "diagnoses_hosp['old_mi_flag'] = diagnoses_hosp['icd_code'].isin(old_mi_icd_codes).astype(int)\n",
    "\n",
    "# Aggregate by hadm_id to determine if any diagnosis linked to the hadm_id is related to disease of interest\n",
    "hadm_diabetes = diagnoses_hosp.groupby('hadm_id')['diabetes_flag'].max().reset_index()\n",
    "hadm_hypertension = diagnoses_hosp.groupby('hadm_id')['hypertension_flag'].max().reset_index()\n",
    "hadm_hyperlipidemia = diagnoses_hosp.groupby('hadm_id')['hyperlipidemia_flag'].max().reset_index()\n",
    "hadm_old_mi = diagnoses_hosp.groupby('hadm_id')['old_mi_flag'].max().reset_index()\n",
    "\n",
    "# Merge this result with the ecg_dataset on hadm_id\n",
    "ecg_dataset = pd.merge(ecg_dataset, hadm_diabetes, on='hadm_id', how='left')\n",
    "ecg_dataset = pd.merge(ecg_dataset, hadm_hypertension, on='hadm_id', how='left')\n",
    "ecg_dataset = pd.merge(ecg_dataset, hadm_hyperlipidemia, on='hadm_id', how='left')\n",
    "ecg_dataset = pd.merge(ecg_dataset, hadm_old_mi, on='hadm_id', how='left')\n",
    "\n",
    "# Identify the NaN values in hypertension, chronic_ihd, and diabetes columns\n",
    "nan_hypertension = ecg_dataset[ecg_dataset['hypertension_flag'].isna()]\n",
    "nan_hyperlipidemia = ecg_dataset[ecg_dataset['hyperlipidemia_flag'].isna()]\n",
    "nan_old_mi = ecg_dataset[ecg_dataset['old_mi_flag'].isna()]\n",
    "nan_diabetes = ecg_dataset[ecg_dataset['diabetes_flag'].isna()]\n",
    "\n",
    "# Merge the ecg_dataset with diagnoses_ed based on stay_id\n",
    "hypertension_ed = pd.merge(nan_hypertension, diagnoses_ed, left_on='ed_stay_id', right_on='stay_id', how='left')\n",
    "hyperlipidemia_ed = pd.merge(nan_hyperlipidemia, diagnoses_ed, left_on='ed_stay_id', right_on='stay_id', how='left')\n",
    "old_mi_ed = pd.merge(nan_old_mi, diagnoses_ed, left_on='ed_stay_id', right_on='stay_id', how='left')\n",
    "diabetes_ed = pd.merge(nan_diabetes, diagnoses_ed, left_on='ed_stay_id', right_on='stay_id', how='left')\n",
    "\n",
    "# Create flags based on diagnoses in diagnoses_ed\n",
    "hypertension_ed['hypertension_flag_ed'] = hypertension_ed['icd_code'].isin(hypertension_icd_codes).astype(int)\n",
    "hyperlipidemia_ed['hyperlipidemia_flag_ed'] = hyperlipidemia_ed['icd_code'].isin(hyperlipidemia_icd_codes).astype(int)\n",
    "old_mi_ed['old_mi_flag_ed'] = old_mi_ed['icd_code'].isin(old_mi_icd_codes).astype(int)\n",
    "diabetes_ed['diabetes_flag_ed'] = diabetes_ed['icd_code'].isin(diabetes_icd_codes).astype(int)\n",
    "\n",
    "# Aggregate to see if there is any relevant diagnosis per stay_id\n",
    "hypertension_fill = hypertension_ed.groupby('ed_stay_id')['hypertension_flag_ed'].max().reset_index()\n",
    "hyperlipidemia_fill = hyperlipidemia_ed.groupby('ed_stay_id')['hyperlipidemia_flag_ed'].max().reset_index()\n",
    "old_mi_fill = old_mi_ed.groupby('ed_stay_id')['old_mi_flag_ed'].max().reset_index()\n",
    "diabetes_fill = diabetes_ed.groupby('ed_stay_id')['diabetes_flag_ed'].max().reset_index()\n",
    "\n",
    "# Merge these back into ecg_dataset to fill in the NaNs\n",
    "ecg_dataset = pd.merge(ecg_dataset, hypertension_fill, on='ed_stay_id', how='left')\n",
    "ecg_dataset = pd.merge(ecg_dataset, hyperlipidemia_fill, on='ed_stay_id', how='left')\n",
    "ecg_dataset = pd.merge(ecg_dataset, old_mi_fill, on='ed_stay_id', how='left')\n",
    "ecg_dataset = pd.merge(ecg_dataset, diabetes_fill, on='ed_stay_id', how='left')\n",
    "\n",
    "# Fill the NaNs in the original columns with values from the diagnoses_ed lookup\n",
    "ecg_dataset['hypertension_flag'] = ecg_dataset['hypertension_flag'].fillna(ecg_dataset['hypertension_flag_ed'])\n",
    "ecg_dataset['hyperlipidemia_flag'] = ecg_dataset['hyperlipidemia_flag'].fillna(ecg_dataset['hyperlipidemia_flag_ed'])\n",
    "ecg_dataset['old_mi_flag'] = ecg_dataset['old_mi_flag'].fillna(ecg_dataset['old_mi_flag_ed'])\n",
    "ecg_dataset['diabetes_flag'] = ecg_dataset['diabetes_flag'].fillna(ecg_dataset['diabetes_flag_ed'])\n",
    "\n",
    "# replace remaining NaNs with 0 (in case there were no relevant diagnoses anywhere)\n",
    "ecg_dataset['hypertension_flag'] = ecg_dataset['hypertension_flag'].fillna(0).astype(int)\n",
    "ecg_dataset['hyperlipidemia_flag'] = ecg_dataset['hyperlipidemia_flag'].fillna(0).astype(int)\n",
    "ecg_dataset['old_mi_flag'] = ecg_dataset['old_mi_flag'].fillna(0).astype(int)\n",
    "ecg_dataset['diabetes_flag'] = ecg_dataset['diabetes_flag'].fillna(0).astype(int)\n",
    "\n",
    "# Rename the flag columns to their final names\n",
    "ecg_dataset = ecg_dataset.rename(columns={\n",
    "    'diabetes_flag': 'diabetes',\n",
    "    'hypertension_flag': 'hypertension',\n",
    "    'hyperlipidemia_flag': 'hyperlipidemia',\n",
    "    'old_mi_flag': 'old_mi'\n",
    "})\n",
    "\n",
    "# Drop the temporary _ed columns\n",
    "ecg_dataset.drop(columns=['hypertension_flag_ed', 'hyperlipidemia_flag_ed', \n",
    "                          'old_mi_flag_ed', 'diabetes_flag_ed'], inplace=True)"
   ]
  },
  {
   "cell_type": "code",
   "execution_count": 109,
   "id": "86c198c6-5c59-49c9-8005-e45c89d4906c",
   "metadata": {},
   "outputs": [
    {
     "data": {
      "text/plain": [
       "hyperlipidemia\n",
       "0    124573\n",
       "1     56113\n",
       "Name: count, dtype: int64"
      ]
     },
     "execution_count": 109,
     "metadata": {},
     "output_type": "execute_result"
    }
   ],
   "source": [
    "ecg_dataset['hyperlipidemia'].value_counts()"
   ]
  },
  {
   "cell_type": "code",
   "execution_count": 110,
   "id": "3cc00b50-3b14-4cd0-b525-eafbf32c7992",
   "metadata": {},
   "outputs": [
    {
     "data": {
      "text/plain": [
       "old_mi\n",
       "0    177053\n",
       "1      3633\n",
       "Name: count, dtype: int64"
      ]
     },
     "execution_count": 110,
     "metadata": {},
     "output_type": "execute_result"
    }
   ],
   "source": [
    "ecg_dataset['old_mi'].value_counts()"
   ]
  },
  {
   "cell_type": "code",
   "execution_count": 111,
   "id": "54ceef00-7528-4f7f-9118-5bdf0e5cac74",
   "metadata": {},
   "outputs": [
    {
     "data": {
      "text/plain": [
       "Index(['subject_id', 'study_id', 'file_name', 'ecg_time', 'path', 'edregtime',\n",
       "       'ed_stay_id', 'arrival_transport', 'race', 'hadm_id', 'REVASC', 'CABG',\n",
       "       'PCI', 'CAG', 'gender', 'anchor_age', 'first_troponin_t',\n",
       "       'second_troponin_t', 'third_troponin_t', 'troponin_t_delta', 'first_ck',\n",
       "       'second_ck', 'third_ck', 'ck_delta', 'first_ckmb', 'second_ckmb',\n",
       "       'third_ckmb', 'ckmb_delta', 'rhythm', 'ventricular_rate', 'pr_interval',\n",
       "       'p_wave_duration', 'qrs_duration', 'qt_interval', 'qtc_interval',\n",
       "       'p_axis', 'qrs_axis', 't_axis', 'sinus_rhythm', 'diabetes',\n",
       "       'hypertension', 'hyperlipidemia', 'old_mi'],\n",
       "      dtype='object')"
      ]
     },
     "execution_count": 111,
     "metadata": {},
     "output_type": "execute_result"
    }
   ],
   "source": [
    "ecg_dataset.columns"
   ]
  },
  {
   "cell_type": "code",
   "execution_count": 112,
   "id": "4d587f9b-804e-42e9-a68c-de3a0f78afda",
   "metadata": {},
   "outputs": [],
   "source": [
    "file_path = os.path.join(path_to_local_files, 'mimic_ecg_dataset.csv')\n",
    "\n",
    "ecg_dataset.to_csv(file_path, index=False)"
   ]
  },
  {
   "cell_type": "code",
   "execution_count": 113,
   "id": "b35e1b37-4f96-43e7-9c2c-4e8fe7dc8188",
   "metadata": {},
   "outputs": [],
   "source": [
    "ecg_dataset = pd.read_csv(os.path.join(path_to_local_files, 'mimic_ecg_dataset.csv'))"
   ]
  },
  {
   "cell_type": "code",
   "execution_count": 114,
   "id": "c5f449ba-c968-4621-a922-b0286b07cddb",
   "metadata": {},
   "outputs": [
    {
     "data": {
      "text/plain": [
       "(425087, 11)"
      ]
     },
     "execution_count": 114,
     "metadata": {},
     "output_type": "execute_result"
    }
   ],
   "source": [
    "triage = pd.read_csv(os.path.join(path_to_mimic_ed, 'ed/triage.csv'))\n",
    "triage.shape"
   ]
  },
  {
   "cell_type": "code",
   "execution_count": 115,
   "id": "e01ac5cf-1abd-44dd-b24a-5beb3dfd4381",
   "metadata": {},
   "outputs": [],
   "source": [
    "# Set the display option to show all rows\n",
    "#pd.set_option('display.max_rows', None)\n",
    "\n",
    "# Print the full value counts\n",
    "#print(triage['chiefcomplaint'].value_counts())\n",
    "\n",
    "# Reset the display option to the default\n",
    "pd.reset_option('display.max_rows')"
   ]
  },
  {
   "cell_type": "code",
   "execution_count": 116,
   "id": "5ea1233c-ccbf-486b-a451-b6669ab6e55b",
   "metadata": {},
   "outputs": [
    {
     "data": {
      "text/plain": [
       "chiefcomplaint\n",
       "Chest pain                     11301\n",
       "Abd pain                       10771\n",
       "Dyspnea                         6003\n",
       "s/p Fall                        4965\n",
       "ABD PAIN                        4957\n",
       "                               ...  \n",
       "Hyponatremia, Hyperglycemia        1\n",
       "Chest pain, Chills, Dyspnea        1\n",
       "SBO-TRANSFER                       1\n",
       "DYSURIA, FEVER                     1\n",
       "? SEIZURE TODAY                    1\n",
       "Name: count, Length: 60406, dtype: int64"
      ]
     },
     "execution_count": 116,
     "metadata": {},
     "output_type": "execute_result"
    }
   ],
   "source": [
    "triage['chiefcomplaint'].value_counts()"
   ]
  },
  {
   "cell_type": "code",
   "execution_count": 117,
   "id": "80363627-118c-4d2e-b5e5-af28d70a5565",
   "metadata": {},
   "outputs": [
    {
     "data": {
      "text/plain": [
       "(180686, 43)"
      ]
     },
     "execution_count": 117,
     "metadata": {},
     "output_type": "execute_result"
    }
   ],
   "source": [
    "ecg_dataset.shape"
   ]
  },
  {
   "cell_type": "code",
   "execution_count": 118,
   "id": "6ebf33a1-0ca3-41d2-b20f-ffa92a4b1582",
   "metadata": {},
   "outputs": [
    {
     "name": "stdout",
     "output_type": "stream",
     "text": [
      "Number of rows with a value in hadm_id but not in ed_stay_id: 122868\n"
     ]
    }
   ],
   "source": [
    "# Filter the rows where hadm_id is not null but ed_stay_id is null\n",
    "rows_with_hadm_no_ed_stay = ecg_dataset[(ecg_dataset['hadm_id'].notnull()) & (ecg_dataset['ed_stay_id'].isnull())]\n",
    "\n",
    "count_rows_with_hadm_no_ed_stay = rows_with_hadm_no_ed_stay.shape[0]\n",
    "print(f\"Number of rows with a value in hadm_id but not in ed_stay_id: {count_rows_with_hadm_no_ed_stay}\")"
   ]
  },
  {
   "cell_type": "code",
   "execution_count": 119,
   "id": "44811e66-e9f9-4644-9943-edfc6a4f0118",
   "metadata": {},
   "outputs": [
    {
     "name": "stdout",
     "output_type": "stream",
     "text": [
      "Number of rows with a value in ed_stay_id but not in hadm_id: 44073\n"
     ]
    }
   ],
   "source": [
    "rows_with_ed_stay_no_hadm = ecg_dataset[(ecg_dataset['ed_stay_id'].notnull()) & (ecg_dataset['hadm_id'].isnull())]\n",
    "\n",
    "count_rows_with_ed_stay_no_hadm = rows_with_ed_stay_no_hadm.shape[0]\n",
    "print(f\"Number of rows with a value in ed_stay_id but not in hadm_id: {count_rows_with_ed_stay_no_hadm}\")"
   ]
  },
  {
   "cell_type": "code",
   "execution_count": 120,
   "id": "d9c09819-cedc-43c5-8c93-3e2221221207",
   "metadata": {},
   "outputs": [
    {
     "data": {
      "text/plain": [
       "122868"
      ]
     },
     "execution_count": 120,
     "metadata": {},
     "output_type": "execute_result"
    }
   ],
   "source": [
    "ecg_dataset['ed_stay_id'].isnull().sum()"
   ]
  },
  {
   "cell_type": "code",
   "execution_count": 121,
   "id": "f24411b2-6d49-4d9d-be3e-4f47abdbe7ea",
   "metadata": {},
   "outputs": [
    {
     "data": {
      "text/plain": [
       "44073"
      ]
     },
     "execution_count": 121,
     "metadata": {},
     "output_type": "execute_result"
    }
   ],
   "source": [
    "ecg_dataset['hadm_id'].isnull().sum()"
   ]
  },
  {
   "cell_type": "code",
   "execution_count": 122,
   "id": "491b113b-1d5e-4049-acc4-976a4fa84b27",
   "metadata": {},
   "outputs": [
    {
     "name": "stdout",
     "output_type": "stream",
     "text": [
      "Number of rows with values in both hadm_id and ed_stay_id: 13745\n"
     ]
    }
   ],
   "source": [
    "rows_with_both_ids = ecg_dataset[(ecg_dataset['hadm_id'].notnull()) & (ecg_dataset['ed_stay_id'].notnull())]\n",
    "\n",
    "count_rows_with_both_ids = rows_with_both_ids.shape[0]\n",
    "print(f\"Number of rows with values in both hadm_id and ed_stay_id: {count_rows_with_both_ids}\")"
   ]
  },
  {
   "cell_type": "code",
   "execution_count": 123,
   "id": "37cbe524-0648-4414-a145-d1af92c6e97d",
   "metadata": {},
   "outputs": [],
   "source": [
    "#  Sort ed_stays by 'hadm_id' and 'intime' to ensure the earliest 'intime' is kept\n",
    "ed_stays_sorted = ed_stays.sort_values(by=['hadm_id', 'intime'])\n",
    "\n",
    "# Drop duplicates based on 'hadm_id', keeping the first occurrence (which is now the earliest intime)\n",
    "ed_stays_unique = ed_stays_sorted.drop_duplicates(subset='hadm_id', keep='first')\n",
    "\n",
    "# Create the lookup dictionary from the unique entries\n",
    "stay_id_lookup = ed_stays_unique.set_index('hadm_id')['stay_id'].to_dict()\n",
    "\n",
    "# Fill NaNs in ecg_dataset['ed_stay_id'] using the lookup dictionary\n",
    "ecg_dataset['ed_stay_id'] = ecg_dataset['ed_stay_id'].fillna(ecg_dataset['hadm_id'].map(stay_id_lookup))"
   ]
  },
  {
   "cell_type": "code",
   "execution_count": 124,
   "id": "50207bee-53f4-4f36-93cc-eeba4b96a78c",
   "metadata": {},
   "outputs": [
    {
     "data": {
      "text/plain": [
       "47975"
      ]
     },
     "execution_count": 124,
     "metadata": {},
     "output_type": "execute_result"
    }
   ],
   "source": [
    "ecg_dataset['ed_stay_id'].isnull().sum()"
   ]
  },
  {
   "cell_type": "code",
   "execution_count": 125,
   "id": "33273faa-e577-449d-aca5-b9f31e862c22",
   "metadata": {},
   "outputs": [
    {
     "data": {
      "text/plain": [
       "222071"
      ]
     },
     "execution_count": 125,
     "metadata": {},
     "output_type": "execute_result"
    }
   ],
   "source": [
    "ed_stays['hadm_id'].isna().sum()"
   ]
  },
  {
   "cell_type": "code",
   "execution_count": 126,
   "id": "14fa2494-c403-4d70-8dd1-989c94f435f6",
   "metadata": {},
   "outputs": [],
   "source": [
    "# Create the lookup dictionary from the unique entries for arrival transport\n",
    "arrival_lookup = ed_stays_unique.set_index('hadm_id')['arrival_transport'].to_dict()\n",
    "\n",
    "ecg_dataset['arrival_transport'] = ecg_dataset['arrival_transport'].fillna(ecg_dataset['hadm_id'].map(arrival_lookup))"
   ]
  },
  {
   "cell_type": "code",
   "execution_count": 127,
   "id": "b1663c7c-e70c-4169-9ea1-b69aeb52f4c0",
   "metadata": {},
   "outputs": [
    {
     "name": "stderr",
     "output_type": "stream",
     "text": [
      "/tmp/ipykernel_3335723/189721783.py:4: UserWarning: This pattern is interpreted as a regular expression, and has match groups. To actually get the groups, use str.extract.\n",
      "  stay_ids = triage[triage['chiefcomplaint'].str.contains(pattern, case=False, na=False, regex=True)]['stay_id'].unique()\n"
     ]
    }
   ],
   "source": [
    "# Define a regex pattern to capture variations of chest pain, dyspnea, and palpitations\n",
    "pattern = r'(chest[\\s-]*pain|dyspnea|dysnea|shortness[\\s-]*of[\\s-]*breath|palpitation|palpitations|chest[\\s-]*tightness|angina pectoris)'\n",
    "\n",
    "stay_ids = triage[triage['chiefcomplaint'].str.contains(pattern, case=False, na=False, regex=True)]['stay_id'].unique()\n",
    "ecg_dataset['suggestive_symptoms'] = ecg_dataset['ed_stay_id'].isin(stay_ids).astype(int)"
   ]
  },
  {
   "cell_type": "code",
   "execution_count": 128,
   "id": "cad3013e-32ab-4943-a342-762169d7b5af",
   "metadata": {},
   "outputs": [
    {
     "data": {
      "text/plain": [
       "suggestive_symptoms\n",
       "0    141171\n",
       "1     39515\n",
       "Name: count, dtype: int64"
      ]
     },
     "execution_count": 128,
     "metadata": {},
     "output_type": "execute_result"
    }
   ],
   "source": [
    "ecg_dataset['suggestive_symptoms'].value_counts()"
   ]
  },
  {
   "cell_type": "code",
   "execution_count": 129,
   "id": "d6a32278-eb8e-4cb6-ad41-31229c894714",
   "metadata": {},
   "outputs": [
    {
     "name": "stderr",
     "output_type": "stream",
     "text": [
      "/tmp/ipykernel_3335723/1226611434.py:4: UserWarning: This pattern is interpreted as a regular expression, and has match groups. To actually get the groups, use str.extract.\n",
      "  stay_ids = triage[triage['chiefcomplaint'].str.contains(pattern, case=False, na=False, regex=True)]['stay_id'].unique()\n"
     ]
    }
   ],
   "source": [
    "# Define a regex pattern to capture variations of chest pain, dyspnea, and palpitations\n",
    "pattern = r'(chest[\\s-]*pain|chest[\\s-]*tightness|angina pectoris)'\n",
    "\n",
    "stay_ids = triage[triage['chiefcomplaint'].str.contains(pattern, case=False, na=False, regex=True)]['stay_id'].unique()\n",
    "ecg_dataset['chest_pain'] = ecg_dataset['ed_stay_id'].isin(stay_ids).astype(int)"
   ]
  },
  {
   "cell_type": "code",
   "execution_count": 130,
   "id": "c4dd5e9e-d332-4759-936d-1eb412fca6c6",
   "metadata": {},
   "outputs": [
    {
     "data": {
      "text/plain": [
       "chest_pain\n",
       "0    157212\n",
       "1     23474\n",
       "Name: count, dtype: int64"
      ]
     },
     "execution_count": 130,
     "metadata": {},
     "output_type": "execute_result"
    }
   ],
   "source": [
    "ecg_dataset['chest_pain'].value_counts()"
   ]
  },
  {
   "cell_type": "code",
   "execution_count": 131,
   "id": "5d82c92b-632b-4d0c-a003-d6cdf68376d9",
   "metadata": {},
   "outputs": [
    {
     "name": "stderr",
     "output_type": "stream",
     "text": [
      "/tmp/ipykernel_3335723/3204801630.py:4: UserWarning: This pattern is interpreted as a regular expression, and has match groups. To actually get the groups, use str.extract.\n",
      "  stay_ids = triage[triage['chiefcomplaint'].str.contains(pattern, case=False, na=False, regex=True)]['stay_id'].unique()\n"
     ]
    }
   ],
   "source": [
    "# Define a regex pattern to capture variations of chest pain, dyspnea, and palpitations\n",
    "pattern = r'(dyspnea|dysnea|shortness[\\s-]*of[\\s-]*breath)'\n",
    "\n",
    "stay_ids = triage[triage['chiefcomplaint'].str.contains(pattern, case=False, na=False, regex=True)]['stay_id'].unique()\n",
    "ecg_dataset['dyspnea'] = ecg_dataset['ed_stay_id'].isin(stay_ids).astype(int)"
   ]
  },
  {
   "cell_type": "code",
   "execution_count": 132,
   "id": "5d57430e-da7a-4a7e-a0f8-eb621db77b93",
   "metadata": {},
   "outputs": [
    {
     "data": {
      "text/plain": [
       "dyspnea\n",
       "0    164727\n",
       "1     15959\n",
       "Name: count, dtype: int64"
      ]
     },
     "execution_count": 132,
     "metadata": {},
     "output_type": "execute_result"
    }
   ],
   "source": [
    "ecg_dataset['dyspnea'].value_counts()"
   ]
  },
  {
   "cell_type": "code",
   "execution_count": 133,
   "id": "b5d511ab-b164-451f-83ab-f328fe91852c",
   "metadata": {},
   "outputs": [
    {
     "name": "stderr",
     "output_type": "stream",
     "text": [
      "/tmp/ipykernel_3335723/2530939064.py:4: UserWarning: This pattern is interpreted as a regular expression, and has match groups. To actually get the groups, use str.extract.\n",
      "  stay_ids = triage[triage['chiefcomplaint'].str.contains(pattern, case=False, na=False, regex=True)]['stay_id'].unique()\n"
     ]
    }
   ],
   "source": [
    "# Define a regex pattern to capture variations of chest pain, dyspnea, and palpitations\n",
    "pattern = r'(palpitation|palpitations)'\n",
    "\n",
    "stay_ids = triage[triage['chiefcomplaint'].str.contains(pattern, case=False, na=False, regex=True)]['stay_id'].unique()\n",
    "ecg_dataset['palpitations'] = ecg_dataset['ed_stay_id'].isin(stay_ids).astype(int)"
   ]
  },
  {
   "cell_type": "code",
   "execution_count": 134,
   "id": "d5a9acad-a3a1-4d10-825e-b9db22dd2008",
   "metadata": {},
   "outputs": [
    {
     "data": {
      "text/plain": [
       "palpitations\n",
       "0    177131\n",
       "1      3555\n",
       "Name: count, dtype: int64"
      ]
     },
     "execution_count": 134,
     "metadata": {},
     "output_type": "execute_result"
    }
   ],
   "source": [
    "ecg_dataset['palpitations'].value_counts()"
   ]
  },
  {
   "cell_type": "code",
   "execution_count": 135,
   "id": "5c62e9d8-5fab-4018-94b0-6a3c3d89147f",
   "metadata": {},
   "outputs": [],
   "source": [
    "# Initialize the new columns with 0\n",
    "ecg_dataset['race_white'] = 0\n",
    "ecg_dataset['race_black'] = 0\n",
    "ecg_dataset['race_hispanic'] = 0\n",
    "ecg_dataset['race_asian'] = 0\n",
    "ecg_dataset['race_other'] = 0\n",
    "\n",
    "# Fill in the columns based on conditions\n",
    "ecg_dataset['race_white'] = ecg_dataset['race'].str.contains('WHITE', case=False, na=False).astype(int)\n",
    "ecg_dataset['race_black'] = ecg_dataset['race'].str.contains('BLACK', case=False, na=False).astype(int)\n",
    "ecg_dataset['race_hispanic'] = ecg_dataset['race'].str.contains('HISPANIC|LATINO', case=False, na=False, regex=True).astype(int)\n",
    "ecg_dataset['race_asian'] = ecg_dataset['race'].str.contains('ASIAN', case=False, na=False).astype(int)\n",
    "\n",
    "# For race_other, it should be 1 where none of the above conditions are met\n",
    "ecg_dataset['race_other'] = (\n",
    "    (ecg_dataset['race_white'] == 0) &\n",
    "    (ecg_dataset['race_black'] == 0) &\n",
    "    (ecg_dataset['race_hispanic'] == 0) &\n",
    "    (ecg_dataset['race_asian'] == 0)\n",
    ").astype(int)"
   ]
  },
  {
   "cell_type": "code",
   "execution_count": 136,
   "id": "8c8df84f-b69b-4e5e-afb4-13882af6b1da",
   "metadata": {},
   "outputs": [],
   "source": [
    "# Drop the 'race' column from ecg_dataset\n",
    "ecg_dataset.drop(columns=['race'], inplace=True)"
   ]
  },
  {
   "cell_type": "code",
   "execution_count": 137,
   "id": "ab7d62ca-d1ce-4cc8-93b2-e975fad0b94f",
   "metadata": {},
   "outputs": [],
   "source": [
    "# Initialize the new columns with 0\n",
    "ecg_dataset['arrival_walk_in'] = 0\n",
    "ecg_dataset['arrival_ambulance'] = 0\n",
    "ecg_dataset['arrival_unknown'] = 0\n",
    "\n",
    "# Fill in the columns based on conditions\n",
    "ecg_dataset['arrival_walk_in'] = ecg_dataset['arrival_transport'].str.contains('WALK IN', case=False, na=False).astype(int)\n",
    "ecg_dataset['arrival_ambulance'] = ecg_dataset['arrival_transport'].str.contains('AMBULANCE|HELICOPTER', case=False, na=False, regex=True).astype(int)\n",
    "\n",
    "# Set arrival_unknown only if neither arrival_walk_in nor arrival_ambulance is set\n",
    "ecg_dataset['arrival_unknown'] = (\n",
    "    (~ecg_dataset['arrival_walk_in'].astype(bool)) & \n",
    "    (~ecg_dataset['arrival_ambulance'].astype(bool))\n",
    ").astype(int)"
   ]
  },
  {
   "cell_type": "code",
   "execution_count": 138,
   "id": "39c6a197-2ef9-415b-8d36-29120c979be5",
   "metadata": {},
   "outputs": [],
   "source": [
    "ecg_dataset.drop(columns=['arrival_transport'], inplace=True)"
   ]
  },
  {
   "cell_type": "code",
   "execution_count": 139,
   "id": "87b488b8-ed1b-486e-829d-bf14aee0854d",
   "metadata": {},
   "outputs": [],
   "source": [
    "# Specify the file path where you want to save the CSV file\n",
    "file_path = os.path.join(path_to_local_files, 'mimic_ecg_dataset.csv')\n",
    "\n",
    "# Save the dataframe to a CSV file\n",
    "ecg_dataset.to_csv(file_path, index=False)"
   ]
  },
  {
   "cell_type": "code",
   "execution_count": null,
   "id": "8c32b763-f09c-4c67-806c-575a53e35daa",
   "metadata": {},
   "outputs": [],
   "source": []
  }
 ],
 "metadata": {
  "kernelspec": {
   "display_name": "Python (tsai_121)",
   "language": "python",
   "name": "tsai_121"
  },
  "language_info": {
   "codemirror_mode": {
    "name": "ipython",
    "version": 3
   },
   "file_extension": ".py",
   "mimetype": "text/x-python",
   "name": "python",
   "nbconvert_exporter": "python",
   "pygments_lexer": "ipython3",
   "version": "3.11.0"
  }
 },
 "nbformat": 4,
 "nbformat_minor": 5
}
