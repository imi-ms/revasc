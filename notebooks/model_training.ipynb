{
 "cells": [
  {
   "cell_type": "code",
   "execution_count": 1,
   "id": "a5f19116-dbc9-42fe-80d8-12042372cee6",
   "metadata": {},
   "outputs": [],
   "source": [
    "import pandas as pd\n",
    "import os\n",
    "import numpy as np\n",
    "import tsai\n",
    "import torch\n",
    "\n",
    "from sklearn.model_selection import RepeatedStratifiedKFold, StratifiedKFold, StratifiedGroupKFold, StratifiedShuffleSplit, GroupShuffleSplit\n",
    "from tsai.all import *\n",
    "from fastai.metrics import RocAucBinary\n",
    "from sklearn.metrics import balanced_accuracy_score, roc_auc_score\n",
    "from fastai.callback.tracker import ReduceLROnPlateau, EarlyStoppingCallback\n",
    "\n",
    "from sklearn.base import BaseEstimator, ClassifierMixin\n",
    "from sklearn.metrics import balanced_accuracy_score, roc_auc_score\n",
    "from fastai.callback.core import Callback\n",
    "from fastai.learner import Learner\n",
    "from fastai.losses import CrossEntropyLossFlat\n",
    "from fastai.metrics import BalancedAccuracy, RocAucBinary\n",
    "from sklearn.calibration import CalibratedClassifierCV"
   ]
  },
  {
   "cell_type": "code",
   "execution_count": 2,
   "id": "24d31f31-1031-4be6-ae2f-e3636a956947",
   "metadata": {},
   "outputs": [
    {
     "data": {
      "text/plain": [
       "True"
      ]
     },
     "execution_count": 2,
     "metadata": {},
     "output_type": "execute_result"
    }
   ],
   "source": [
    "torch.cuda.is_available()"
   ]
  },
  {
   "cell_type": "code",
   "execution_count": 3,
   "id": "a5aff609-5003-48eb-b85a-a66380e5becc",
   "metadata": {},
   "outputs": [],
   "source": [
    "data = np.load(\"../data/mimic_train_ids.npz\", allow_pickle=True)\n",
    "train = data[\"ids\"]\n",
    "train_case_ids = data[\"case_ids\"]\n",
    "\n",
    "data = np.load(\"../data/mimic_test_ids.npz\", allow_pickle=True)\n",
    "test = data[\"ids\"]\n",
    "test_case_ids = data[\"case_ids\"]"
   ]
  },
  {
   "cell_type": "code",
   "execution_count": 4,
   "id": "a48486ea-5123-4451-adfa-d3cc7dcaffd0",
   "metadata": {},
   "outputs": [],
   "source": [
    "data = np.load(\"../data/mimic_ecgs_and_labels_age_gender.npz\")\n",
    "X = data[\"X\"][:]\n",
    "y_cag = data[\"y_cag\"][:]\n",
    "y_revasc = data[\"y_revasc\"][:]\n",
    "subject_id = data[\"subject_id\"][:]"
   ]
  },
  {
   "cell_type": "code",
   "execution_count": 5,
   "id": "0168f4fc-c72a-480a-a261-bb6ba7204779",
   "metadata": {},
   "outputs": [],
   "source": [
    "groups = subject_id\n",
    "y = y_revasc"
   ]
  },
  {
   "cell_type": "code",
   "execution_count": 6,
   "id": "11a8b6e4-d73d-4482-b72b-7a96c3f71ecd",
   "metadata": {},
   "outputs": [],
   "source": [
    "class TSC(BaseEstimator, ClassifierMixin):\n",
    "    def __init__(self, random_state=42, epochs=100):\n",
    "        self.model = None\n",
    "        self.classes_ = np.array([0, 1])\n",
    "        self.random_state = random_state\n",
    "        self.epochs = epochs\n",
    "        self.batch_tfms = [TSStandardize(by_sample=False)]\n",
    "        self.tfms = [None, TSClassification()]\n",
    "\n",
    "    def fit(self, X, y, groups):\n",
    "        for sp0, sp1 in StratifiedGroupKFold(n_splits=8, shuffle=True, random_state=42+self.random_state).split(X, y, groups=groups): # 8 splits\n",
    "            break    \n",
    "\n",
    "        patients = 5\n",
    "        self.model = TSClassifier(X, y, \n",
    "                           arch=\"InceptionTime\", tfms=self.tfms, #path=f\"./models/{self.random_state}\",\n",
    "                           metrics=[RocAucBinary()], \n",
    "                           train_metrics=True,\n",
    "                           splits=(sp0, sp1),\n",
    "                           bs=64,\n",
    "                           cbs=[\n",
    "                               EarlyStoppingCallback(min_delta=0.0, patience=patients, comp=np.less), \n",
    "                               SaveModel(),\n",
    "                               ReduceLROnPlateau(monitor='valid_loss', comp=np.less, patience=2, factor=10, min_lr=0,reset_on_fit=True)\n",
    "                               ],\n",
    "                           ### -> if you want a propper balanced accuracy\n",
    "                           #loss_func=CrossEntropyLossFlat(reduction=\"mean\", weight=torch.Tensor((dist[1]/dist.sum(), dist[0]/dist.sum())).to(\"cuda\")),\n",
    "                           batch_tfms=self.batch_tfms,\n",
    "                           lr=5e-4,\n",
    "                           verbose=True)\n",
    "    \n",
    "        self.model.fit(self.epochs)\n",
    "        \n",
    "        return self\n",
    "\n",
    "    def fine_tune(self, X, y, groups, path):\n",
    "        for sp0, sp1 in StratifiedGroupKFold(n_splits=8, shuffle=True, random_state=self.random_state).split(X, y, groups=groups): # 8 splits\n",
    "            break\n",
    "        patients = 5\n",
    "        self.model = TSClassifier(X, y, \n",
    "                           arch=\"InceptionTime\", tfms=self.tfms,\n",
    "                           metrics=[RocAucBinary()], \n",
    "                           train_metrics=True,\n",
    "                           splits=(sp0, sp1),\n",
    "                           pretrained=True,\n",
    "                           weights_path=path,\n",
    "                           bs=64,\n",
    "                           cbs=[\n",
    "                               EarlyStoppingCallback(min_delta=0.0, patience=patients, comp=np.less), \n",
    "                               SaveModel(),\n",
    "                               ],\n",
    "                           ### -> if you want a propper balanced accuracy\n",
    "                           #loss_func=CrossEntropyLossFlat(reduction=\"mean\", weight=torch.Tensor((dist[1]/dist.sum(), dist[0]/dist.sum())).to(\"cuda\")),\n",
    "                           #loss_func=FocalLossFlat(),\n",
    "                            batch_tfms=self.batch_tfms,\n",
    "                           exclude_head=False,\n",
    "                           lr=1e-5,\n",
    "                           verbose=True)\n",
    "        self.model.fit(self.epochs)\n",
    "        \n",
    "    \n",
    "    def predict(self, X, bs=64):\n",
    "        preds_int = self.model.get_X_preds(X, bs=bs)[2].astype(int).astype(int)\n",
    "        return preds_int\n",
    "\n",
    "    def predict_proba(self, X, bs=64):\n",
    "        preds = self.model.get_X_preds(X, bs=bs)[0].numpy()[:, :]\n",
    "        return preds\n",
    "\n",
    "    def export(self, path):\n",
    "        self.model.export(path)\n",
    "\n",
    "    def load(self, path):\n",
    "        self.model = load_learner(path, cpu=False)"
   ]
  },
  {
   "cell_type": "code",
   "execution_count": 7,
   "id": "78a13302-395c-436a-95cd-2acd8511f6bf",
   "metadata": {},
   "outputs": [
    {
     "data": {
      "text/plain": [
       "0    179602\n",
       "1      1084\n",
       "Name: count, dtype: int64"
      ]
     },
     "execution_count": 7,
     "metadata": {},
     "output_type": "execute_result"
    }
   ],
   "source": [
    "pd.Series(y).value_counts(dropna=False)"
   ]
  },
  {
   "cell_type": "code",
   "execution_count": 8,
   "id": "3b396ef7-5323-4569-9899-5234811bf628",
   "metadata": {
    "scrolled": true
   },
   "outputs": [
    {
     "name": "stdout",
     "output_type": "stream",
     "text": [
      "(180686, 12, 1000)\n",
      "arch: InceptionTime(c_in=12 c_out=2 seq_len=1000 arch_config={} kwargs={})\n"
     ]
    },
    {
     "data": {
      "text/html": [
       "\n",
       "<style>\n",
       "    /* Turns off some styling */\n",
       "    progress {\n",
       "        /* gets rid of default border in Firefox and Opera. */\n",
       "        border: none;\n",
       "        /* Needs to be in here for Safari polyfill so background images work as expected. */\n",
       "        background-size: auto;\n",
       "    }\n",
       "    progress:not([value]), progress:not([value])::-webkit-progress-bar {\n",
       "        background: repeating-linear-gradient(45deg, #7e7e7e, #7e7e7e 10px, #5c5c5c 10px, #5c5c5c 20px);\n",
       "    }\n",
       "    .progress-bar-interrupted, .progress-bar-interrupted::-webkit-progress-bar {\n",
       "        background: #F44336;\n",
       "    }\n",
       "</style>\n"
      ],
      "text/plain": [
       "<IPython.core.display.HTML object>"
      ]
     },
     "metadata": {},
     "output_type": "display_data"
    },
    {
     "data": {
      "text/html": [
       "<table border=\"1\" class=\"dataframe\">\n",
       "  <thead>\n",
       "    <tr style=\"text-align: left;\">\n",
       "      <th>epoch</th>\n",
       "      <th>train_loss</th>\n",
       "      <th>train_roc_auc_score</th>\n",
       "      <th>valid_loss</th>\n",
       "      <th>valid_roc_auc_score</th>\n",
       "      <th>time</th>\n",
       "    </tr>\n",
       "  </thead>\n",
       "  <tbody>\n",
       "    <tr>\n",
       "      <td>0</td>\n",
       "      <td>0.030359</td>\n",
       "      <td>0.786020</td>\n",
       "      <td>0.026074</td>\n",
       "      <td>0.876108</td>\n",
       "      <td>02:43</td>\n",
       "    </tr>\n",
       "    <tr>\n",
       "      <td>1</td>\n",
       "      <td>0.035314</td>\n",
       "      <td>0.854046</td>\n",
       "      <td>0.025561</td>\n",
       "      <td>0.876621</td>\n",
       "      <td>02:39</td>\n",
       "    </tr>\n",
       "    <tr>\n",
       "      <td>2</td>\n",
       "      <td>0.032045</td>\n",
       "      <td>0.876958</td>\n",
       "      <td>0.025318</td>\n",
       "      <td>0.887592</td>\n",
       "      <td>02:42</td>\n",
       "    </tr>\n",
       "    <tr>\n",
       "      <td>3</td>\n",
       "      <td>0.025449</td>\n",
       "      <td>0.882974</td>\n",
       "      <td>0.025152</td>\n",
       "      <td>0.883421</td>\n",
       "      <td>02:42</td>\n",
       "    </tr>\n",
       "    <tr>\n",
       "      <td>4</td>\n",
       "      <td>0.029554</td>\n",
       "      <td>0.889673</td>\n",
       "      <td>0.025998</td>\n",
       "      <td>0.889895</td>\n",
       "      <td>02:43</td>\n",
       "    </tr>\n",
       "    <tr>\n",
       "      <td>5</td>\n",
       "      <td>0.025220</td>\n",
       "      <td>0.900235</td>\n",
       "      <td>0.025669</td>\n",
       "      <td>0.871141</td>\n",
       "      <td>02:39</td>\n",
       "    </tr>\n",
       "    <tr>\n",
       "      <td>6</td>\n",
       "      <td>0.025827</td>\n",
       "      <td>0.918992</td>\n",
       "      <td>0.024751</td>\n",
       "      <td>0.897277</td>\n",
       "      <td>02:42</td>\n",
       "    </tr>\n",
       "    <tr>\n",
       "      <td>7</td>\n",
       "      <td>0.027923</td>\n",
       "      <td>0.928434</td>\n",
       "      <td>0.025148</td>\n",
       "      <td>0.899119</td>\n",
       "      <td>02:43</td>\n",
       "    </tr>\n",
       "    <tr>\n",
       "      <td>8</td>\n",
       "      <td>0.022111</td>\n",
       "      <td>0.929291</td>\n",
       "      <td>0.025207</td>\n",
       "      <td>0.895497</td>\n",
       "      <td>02:42</td>\n",
       "    </tr>\n",
       "    <tr>\n",
       "      <td>9</td>\n",
       "      <td>0.021129</td>\n",
       "      <td>0.933965</td>\n",
       "      <td>0.025127</td>\n",
       "      <td>0.895638</td>\n",
       "      <td>02:39</td>\n",
       "    </tr>\n",
       "    <tr>\n",
       "      <td>10</td>\n",
       "      <td>0.022375</td>\n",
       "      <td>0.934493</td>\n",
       "      <td>0.025140</td>\n",
       "      <td>0.897458</td>\n",
       "      <td>02:43</td>\n",
       "    </tr>\n",
       "    <tr>\n",
       "      <td>11</td>\n",
       "      <td>0.021171</td>\n",
       "      <td>0.935668</td>\n",
       "      <td>0.025352</td>\n",
       "      <td>0.898344</td>\n",
       "      <td>02:42</td>\n",
       "    </tr>\n",
       "  </tbody>\n",
       "</table>"
      ],
      "text/plain": [
       "<IPython.core.display.HTML object>"
      ]
     },
     "metadata": {},
     "output_type": "display_data"
    },
    {
     "name": "stdout",
     "output_type": "stream",
     "text": [
      "Epoch 5: reducing lr to 5e-05\n",
      "Epoch 8: reducing lr to 5e-06\n",
      "Epoch 10: reducing lr to 5.000000000000001e-07\n",
      "No improvement since epoch 6: early stopping\n"
     ]
    },
    {
     "data": {
      "text/html": [
       "\n",
       "<style>\n",
       "    /* Turns off some styling */\n",
       "    progress {\n",
       "        /* gets rid of default border in Firefox and Opera. */\n",
       "        border: none;\n",
       "        /* Needs to be in here for Safari polyfill so background images work as expected. */\n",
       "        background-size: auto;\n",
       "    }\n",
       "    progress:not([value]), progress:not([value])::-webkit-progress-bar {\n",
       "        background: repeating-linear-gradient(45deg, #7e7e7e, #7e7e7e 10px, #5c5c5c 10px, #5c5c5c 20px);\n",
       "    }\n",
       "    .progress-bar-interrupted, .progress-bar-interrupted::-webkit-progress-bar {\n",
       "        background: #F44336;\n",
       "    }\n",
       "</style>\n"
      ],
      "text/plain": [
       "<IPython.core.display.HTML object>"
      ]
     },
     "metadata": {},
     "output_type": "display_data"
    },
    {
     "data": {
      "text/html": [],
      "text/plain": [
       "<IPython.core.display.HTML object>"
      ]
     },
     "metadata": {},
     "output_type": "display_data"
    },
    {
     "data": {
      "text/html": [
       "\n",
       "<style>\n",
       "    /* Turns off some styling */\n",
       "    progress {\n",
       "        /* gets rid of default border in Firefox and Opera. */\n",
       "        border: none;\n",
       "        /* Needs to be in here for Safari polyfill so background images work as expected. */\n",
       "        background-size: auto;\n",
       "    }\n",
       "    progress:not([value]), progress:not([value])::-webkit-progress-bar {\n",
       "        background: repeating-linear-gradient(45deg, #7e7e7e, #7e7e7e 10px, #5c5c5c 10px, #5c5c5c 20px);\n",
       "    }\n",
       "    .progress-bar-interrupted, .progress-bar-interrupted::-webkit-progress-bar {\n",
       "        background: #F44336;\n",
       "    }\n",
       "</style>\n"
      ],
      "text/plain": [
       "<IPython.core.display.HTML object>"
      ]
     },
     "metadata": {},
     "output_type": "display_data"
    },
    {
     "data": {
      "text/html": [],
      "text/plain": [
       "<IPython.core.display.HTML object>"
      ]
     },
     "metadata": {},
     "output_type": "display_data"
    },
    {
     "name": "stdout",
     "output_type": "stream",
     "text": [
      "0 - 1\n",
      "[0.901873440655456]\n",
      "0.901873440655456\n"
     ]
    }
   ],
   "source": [
    "scores = []\n",
    "Xt = np.nan_to_num(X[:, :, :])\n",
    "print(Xt.shape)\n",
    "\n",
    "\n",
    "y_pred_proba = []\n",
    "y_preds = []\n",
    "ytests = []\n",
    "tests = []\n",
    "\n",
    "n_runs = 1  # 10 for the original ensemble model\n",
    "\n",
    "tmpp = 0\n",
    "for run in range(n_runs):\n",
    "    X_train, X_test = Xt[train], Xt[test]\n",
    "    y_train, y_test = y[train], y[test]\n",
    "    \n",
    "    groups_train = np.concatenate([groups[train]], axis=0)\n",
    "        \n",
    "    base_model = TSC(random_state=run, epochs=100)\n",
    "    base_model.fit(X_train, y_train, groups=groups_train)\n",
    "        \n",
    "    y_pred = base_model.predict(X_test)\n",
    "    y_pred_proba.append(base_model.predict_proba(X_test)[:, 1])\n",
    "    y_preds.append(y_pred)\n",
    "    \n",
    "    ytests.append(y_test)\n",
    "    tests.append(test)\n",
    "        \n",
    "    print(f\"{run} - {n_runs}\")\n",
    "    scores.append(roc_auc_score(y_score=y_pred_proba[-1], y_true=y_test))\n",
    "    print(scores)\n",
    "    print(np.mean(scores))\n",
    "\n",
    "    # to save each run and create the ensemble model\n",
    "    #base_model.export(f\"/media/seaweedmnt/projects/caidiology/er3.0/data_exploration/publication/revasc_model/exported_models/revasc_mimic_chest_pain/{run}.pkl\")"
   ]
  },
  {
   "cell_type": "code",
   "execution_count": null,
   "id": "8bd468b5-93b3-4931-97d9-1a5f598f059e",
   "metadata": {},
   "outputs": [],
   "source": []
  }
 ],
 "metadata": {
  "kernelspec": {
   "display_name": "Python (tsai_121)",
   "language": "python",
   "name": "tsai_121"
  },
  "language_info": {
   "codemirror_mode": {
    "name": "ipython",
    "version": 3
   },
   "file_extension": ".py",
   "mimetype": "text/x-python",
   "name": "python",
   "nbconvert_exporter": "python",
   "pygments_lexer": "ipython3",
   "version": "3.11.0"
  }
 },
 "nbformat": 4,
 "nbformat_minor": 5
}
