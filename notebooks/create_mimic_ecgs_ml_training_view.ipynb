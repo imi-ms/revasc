{
 "cells": [
  {
   "cell_type": "code",
   "execution_count": 1,
   "id": "84150f55-2b0c-45d2-b209-5c447bcfeac1",
   "metadata": {},
   "outputs": [],
   "source": [
    "import numpy as np\n",
    "import pandas as pd\n",
    "import wfdb"
   ]
  },
  {
   "cell_type": "code",
   "execution_count": 2,
   "id": "c9d3949b-a958-4c17-99f8-465ae12b7d29",
   "metadata": {},
   "outputs": [],
   "source": [
    "# path to mimic_ecg_dataset (output from create_mimic_ecg_dataset.ipynb)\n",
    "df = pd.read_csv(\"../data/mimic_ecg_dataset.csv\")"
   ]
  },
  {
   "cell_type": "code",
   "execution_count": 3,
   "id": "e3443029-3223-41f6-ad5d-ea471e92ecfc",
   "metadata": {},
   "outputs": [
    {
     "data": {
      "text/plain": [
       "180686"
      ]
     },
     "execution_count": 3,
     "metadata": {},
     "output_type": "execute_result"
    }
   ],
   "source": [
    "len(df)"
   ]
  },
  {
   "cell_type": "code",
   "execution_count": 4,
   "id": "3bf68f94-9136-4161-b363-a8da2c31985c",
   "metadata": {},
   "outputs": [
    {
     "data": {
      "text/plain": [
       "Index(['subject_id', 'study_id', 'file_name', 'ecg_time', 'path', 'edregtime',\n",
       "       'ed_stay_id', 'hadm_id', 'REVASC', 'CABG', 'PCI', 'CAG', 'gender',\n",
       "       'anchor_age', 'first_troponin_t', 'second_troponin_t',\n",
       "       'third_troponin_t', 'troponin_t_delta', 'first_ck', 'second_ck',\n",
       "       'third_ck', 'ck_delta', 'first_ckmb', 'second_ckmb', 'third_ckmb',\n",
       "       'ckmb_delta', 'rhythm', 'ventricular_rate', 'pr_interval',\n",
       "       'p_wave_duration', 'qrs_duration', 'qt_interval', 'qtc_interval',\n",
       "       'p_axis', 'qrs_axis', 't_axis', 'sinus_rhythm', 'diabetes',\n",
       "       'hypertension', 'hyperlipidemia', 'old_mi', 'stemi', 'nstemi',\n",
       "       'suggestive_symptoms', 'chest_pain', 'dyspnea', 'palpitations',\n",
       "       'race_white', 'race_black', 'race_hispanic', 'race_asian', 'race_other',\n",
       "       'arrival_walk_in', 'arrival_ambulance', 'arrival_unknown'],\n",
       "      dtype='object')"
      ]
     },
     "execution_count": 4,
     "metadata": {},
     "output_type": "execute_result"
    }
   ],
   "source": [
    "df.columns"
   ]
  },
  {
   "cell_type": "code",
   "execution_count": 5,
   "id": "9a65146a-dafe-47d1-b4a1-adf0061ab23b",
   "metadata": {},
   "outputs": [],
   "source": [
    "y_pci = df[\"REVASC\"].values\n",
    "y_coro = df[\"CAG\"].values\n",
    "groups = df[\"subject_id\"].values\n",
    "gender = df[\"gender\"].values\n",
    "age = df[\"anchor_age\"].values"
   ]
  },
  {
   "cell_type": "code",
   "execution_count": 6,
   "id": "ef1c3d88-db51-40ae-8d26-ca7d1e50a2be",
   "metadata": {},
   "outputs": [
    {
     "name": "stdout",
     "output_type": "stream",
     "text": [
      "0\n",
      "10000\n",
      "20000\n",
      "30000\n",
      "40000\n",
      "50000\n",
      "60000\n",
      "70000\n",
      "80000\n",
      "90000\n",
      "100000\n",
      "110000\n",
      "120000\n",
      "130000\n",
      "140000\n",
      "150000\n",
      "160000\n",
      "170000\n",
      "180000\n"
     ]
    }
   ],
   "source": [
    "# path to MIMIC ECGs\n",
    "pre_path = \".....mimic-iv-ecg-diagnostic-electrocardiogram-matched-subset-1.0/\"\n",
    "\n",
    "k = len(df)\n",
    "\n",
    "X = np.zeros((k, 12, 1000))\n",
    "for i in range(k):\n",
    "    if i % 10000 == 0:\n",
    "        print(i)\n",
    "    filepath = pre_path + df[\"path\"].iloc[i]\n",
    "    data = np.asarray(wfdb.rdsamp(filepath)[0]).T.reshape((1, 12, 5000))\n",
    "    # sampling rate to 100 HZ and switch leads to match up with control cohort Lano\n",
    "    X[i] = data[0, [0, 1, 2, 3, 5, 4, 6, 7, 8, 9, 10, 11], ::5] "
   ]
  },
  {
   "cell_type": "code",
   "execution_count": 7,
   "id": "cca0998a-6b6c-4286-8a46-0932a674f788",
   "metadata": {},
   "outputs": [],
   "source": [
    "np.savez(\"./revasc_model/data/mimic_ecgs_and_labels_age_gender.npz\", \n",
    "         X=X, \n",
    "         y_revasc=df[\"REVASC\"].values, \n",
    "         y_cag=df[\"CAG\"].values, \n",
    "         subject_id=df[\"subject_id\"].values,\n",
    "         gender = df[\"gender\"].values,\n",
    "         age = df[\"anchor_age\"].values,\n",
    "         file_name=df[\"file_name\"].values\n",
    "        )"
   ]
  }
 ],
 "metadata": {
  "kernelspec": {
   "display_name": "Python (tsai_121)",
   "language": "python",
   "name": "tsai_121"
  },
  "language_info": {
   "codemirror_mode": {
    "name": "ipython",
    "version": 3
   },
   "file_extension": ".py",
   "mimetype": "text/x-python",
   "name": "python",
   "nbconvert_exporter": "python",
   "pygments_lexer": "ipython3",
   "version": "3.11.0"
  }
 },
 "nbformat": 4,
 "nbformat_minor": 5
}
